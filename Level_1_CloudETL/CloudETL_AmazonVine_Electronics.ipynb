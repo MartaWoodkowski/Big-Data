{
 "cells": [
  {
   "cell_type": "code",
   "execution_count": 1,
   "metadata": {
    "colab": {
     "base_uri": "https://localhost:8080/"
    },
    "id": "xcyo0Q-oqNlx",
    "outputId": "dfa98f7c-d32c-4835-d0a1-c7cf54a206c3"
   },
   "outputs": [
    {
     "name": "stdout",
     "output_type": "stream",
     "text": [
      "\r",
      "0% [Working]\r",
      "            \r",
      "Ign:1 https://developer.download.nvidia.com/compute/cuda/repos/ubuntu1804/x86_64  InRelease\n",
      "\r",
      "0% [Connecting to archive.ubuntu.com] [Connecting to security.ubuntu.com (91.18\r",
      "                                                                               \r",
      "Get:2 https://cloud.r-project.org/bin/linux/ubuntu bionic-cran40/ InRelease [3,626 B]\n",
      "\r",
      "0% [Connecting to archive.ubuntu.com] [Connecting to security.ubuntu.com (91.18\r",
      "0% [Connecting to archive.ubuntu.com] [Connecting to security.ubuntu.com (91.18\r",
      "                                                                               \r",
      "Ign:3 https://developer.download.nvidia.com/compute/machine-learning/repos/ubuntu1804/x86_64  InRelease\n",
      "\r",
      "0% [Connecting to archive.ubuntu.com] [Connecting to security.ubuntu.com (91.18\r",
      "0% [2 InRelease gpgv 3,626 B] [Connecting to archive.ubuntu.com] [Connecting to\r",
      "                                                                               \r",
      "Get:4 https://developer.download.nvidia.com/compute/cuda/repos/ubuntu1804/x86_64  Release [696 B]\n",
      "Hit:5 https://developer.download.nvidia.com/compute/machine-learning/repos/ubuntu1804/x86_64  Release\n",
      "Get:6 https://developer.download.nvidia.com/compute/cuda/repos/ubuntu1804/x86_64  Release.gpg [836 B]\n",
      "Get:7 http://security.ubuntu.com/ubuntu bionic-security InRelease [88.7 kB]\n",
      "Get:8 http://ppa.launchpad.net/c2d4u.team/c2d4u4.0+/ubuntu bionic InRelease [15.9 kB]\n",
      "Hit:9 http://archive.ubuntu.com/ubuntu bionic InRelease\n",
      "Get:10 https://cloud.r-project.org/bin/linux/ubuntu bionic-cran40/ Packages [73.0 kB]\n",
      "Get:11 http://archive.ubuntu.com/ubuntu bionic-updates InRelease [88.7 kB]\n",
      "Hit:12 http://ppa.launchpad.net/cran/libgit2/ubuntu bionic InRelease\n",
      "Get:14 http://archive.ubuntu.com/ubuntu bionic-backports InRelease [74.6 kB]\n",
      "Get:15 http://ppa.launchpad.net/deadsnakes/ppa/ubuntu bionic InRelease [15.9 kB]\n",
      "Get:16 https://developer.download.nvidia.com/compute/cuda/repos/ubuntu1804/x86_64  Packages [808 kB]\n",
      "Hit:17 http://ppa.launchpad.net/graphics-drivers/ppa/ubuntu bionic InRelease\n",
      "Get:18 http://security.ubuntu.com/ubuntu bionic-security/restricted amd64 Packages [666 kB]\n",
      "Get:19 http://security.ubuntu.com/ubuntu bionic-security/main amd64 Packages [2,430 kB]\n",
      "Get:20 http://security.ubuntu.com/ubuntu bionic-security/multiverse amd64 Packages [26.8 kB]\n",
      "Get:21 http://security.ubuntu.com/ubuntu bionic-security/universe amd64 Packages [1,442 kB]\n",
      "Get:22 http://ppa.launchpad.net/c2d4u.team/c2d4u4.0+/ubuntu bionic/main Sources [1,811 kB]\n",
      "Get:23 http://archive.ubuntu.com/ubuntu bionic-updates/multiverse amd64 Packages [34.4 kB]\n",
      "Get:24 http://archive.ubuntu.com/ubuntu bionic-updates/restricted amd64 Packages [699 kB]\n",
      "Get:25 http://ppa.launchpad.net/c2d4u.team/c2d4u4.0+/ubuntu bionic/main amd64 Packages [928 kB]\n",
      "Get:26 http://archive.ubuntu.com/ubuntu bionic-updates/main amd64 Packages [2,867 kB]\n",
      "Get:27 http://archive.ubuntu.com/ubuntu bionic-updates/universe amd64 Packages [2,222 kB]\n",
      "Get:28 http://ppa.launchpad.net/deadsnakes/ppa/ubuntu bionic/main amd64 Packages [45.9 kB]\n",
      "Fetched 14.3 MB in 5s (2,664 kB/s)\n",
      "Reading package lists... Done\n"
     ]
    }
   ],
   "source": [
    "import os\n",
    "\n",
    "# spark_version\n",
    "spark_version = 'spark-3.2.0'\n",
    "os.environ['SPARK_VERSION']=spark_version\n",
    "\n",
    "# Install Spark and Java\n",
    "!apt-get update\n",
    "!apt-get install openjdk-8-jdk-headless -qq > /dev/null\n",
    "!wget -q http://www.apache.org/dist/spark/$SPARK_VERSION/$SPARK_VERSION-bin-hadoop2.7.tgz\n",
    "!tar xf $SPARK_VERSION-bin-hadoop2.7.tgz\n",
    "!pip install -q findspark\n",
    "\n",
    "# Set Environment Variables\n",
    "os.environ[\"JAVA_HOME\"] = \"/usr/lib/jvm/java-8-openjdk-amd64\"\n",
    "os.environ[\"SPARK_HOME\"] = f\"/content/{spark_version}-bin-hadoop2.7\"\n",
    "\n",
    "# Start a SparkSession\n",
    "import findspark\n",
    "findspark.init()"
   ]
  },
  {
   "cell_type": "code",
   "execution_count": 2,
   "metadata": {
    "colab": {
     "base_uri": "https://localhost:8080/"
    },
    "id": "Dp0jXGYqs-Or",
    "outputId": "c63beeed-c33c-48e5-ff7f-d8a00f5f3563"
   },
   "outputs": [
    {
     "name": "stdout",
     "output_type": "stream",
     "text": [
      "--2021-11-17 22:46:25--  https://jdbc.postgresql.org/download/postgresql-42.2.9.jar\n",
      "Resolving jdbc.postgresql.org (jdbc.postgresql.org)... 72.32.157.228, 2001:4800:3e1:1::228\n",
      "Connecting to jdbc.postgresql.org (jdbc.postgresql.org)|72.32.157.228|:443... connected.\n",
      "HTTP request sent, awaiting response... 200 OK\n",
      "Length: 914037 (893K) [application/java-archive]\n",
      "Saving to: ‘postgresql-42.2.9.jar’\n",
      "\n",
      "postgresql-42.2.9.j 100%[===================>] 892.61K  5.66MB/s    in 0.2s    \n",
      "\n",
      "2021-11-17 22:46:26 (5.66 MB/s) - ‘postgresql-42.2.9.jar’ saved [914037/914037]\n",
      "\n"
     ]
    }
   ],
   "source": [
    "!wget https://jdbc.postgresql.org/download/postgresql-42.2.9.jar"
   ]
  },
  {
   "cell_type": "code",
   "execution_count": 3,
   "metadata": {
    "id": "pDrPk-A8ti5W"
   },
   "outputs": [],
   "source": [
    "from pyspark.sql import SparkSession\n",
    "spark = SparkSession.builder.appName(\"CloudETL\").config(\"spark.driver.extraClassPath\",\"/content/postgresql-42.2.9.jar\").getOrCreate()"
   ]
  },
  {
   "cell_type": "markdown",
   "metadata": {
    "id": "e4U4JCs12qU0"
   },
   "source": [
    "# EXTRACT"
   ]
  },
  {
   "cell_type": "code",
   "execution_count": 4,
   "metadata": {
    "colab": {
     "base_uri": "https://localhost:8080/"
    },
    "id": "k9OdR3tzt6kV",
    "outputId": "120907fe-18d0-4329-c190-75bae8c07edd"
   },
   "outputs": [
    {
     "name": "stdout",
     "output_type": "stream",
     "text": [
      "+-----------+-----------+--------------+----------+--------------+--------------------+----------------+-----------+-------------+-----------+----+-----------------+--------------------+--------------------+-----------+\n",
      "|marketplace|customer_id|     review_id|product_id|product_parent|       product_title|product_category|star_rating|helpful_votes|total_votes|vine|verified_purchase|     review_headline|         review_body|review_date|\n",
      "+-----------+-----------+--------------+----------+--------------+--------------------+----------------+-----------+-------------+-----------+----+-----------------+--------------------+--------------------+-----------+\n",
      "|         US|   41409413|R2MTG1GCZLR2DK|B00428R89M|     112201306|yoomall 5M Antenn...|     Electronics|          5|            0|          0|   N|                Y|          Five Stars|       As described.| 2015-08-31|\n",
      "|         US|   49668221|R2HBOEM8LE9928|B000068O48|     734576678|Hosa GPM-103 3.5m...|     Electronics|          5|            0|          0|   N|                Y|It works as adver...|It works as adver...| 2015-08-31|\n",
      "|         US|   12338275|R1P4RW1R9FDPEE|B000GGKOG8|     614448099|Channel Master Ti...|     Electronics|          5|            1|          1|   N|                Y|          Five Stars|         Works pissa| 2015-08-31|\n",
      "|         US|   38487968|R1EBPM82ENI67M|B000NU4OTA|      72265257|LIMTECH Wall char...|     Electronics|          1|            0|          0|   N|                Y|            One Star|Did not work at all.| 2015-08-31|\n",
      "|         US|   23732619|R372S58V6D11AT|B00JOQIO6S|     308169188|Skullcandy Air Ra...|     Electronics|          5|            1|          1|   N|                Y|Overall pleased w...|Works well. Bass ...| 2015-08-31|\n",
      "|         US|   21257820|R1A4514XOYI1PD|B008NCD2LG|     976385982|Pioneer SP-BS22-L...|     Electronics|          5|            1|          1|   N|                Y|          Five Stars|The quality on th...| 2015-08-31|\n",
      "|         US|    3084991|R20D9EHB7N20V6|B00007FGUF|     670878953|C2G/Cables to Go ...|     Electronics|          5|            0|          0|   N|                Y|           Lifesaver|Wish I could give...| 2015-08-31|\n",
      "|         US|    8153674|R1WUTD8MVSROJU|B00M9V2RMM|     508452933|COOLEAD-HDMI Swit...|     Electronics|          5|            0|          0|   N|                Y|          Five Stars|         works great| 2015-08-31|\n",
      "|         US|   52246189|R1QCYLT25812DM|B00J3O9DYI|     766372886|Philips Wireless ...|     Electronics|          4|            0|          0|   N|                Y|          Four Stars|Great sound and c...| 2015-08-31|\n",
      "|         US|   41463864| R904DQPBCEM7A|B00NS1A0E4|     458130381|PlayStation 3 3D ...|     Electronics|          4|            0|          0|   N|                Y|          Four Stars|    It works well~~~| 2015-08-31|\n",
      "|         US|    2781942|R1DGA6UQIVLKZ7|B007B5V092|     152891509|JVC HAFR201A Xtre...|     Electronics|          5|            0|          0|   N|                Y|          Five Stars|           Alll good| 2015-08-31|\n",
      "|         US|     707292| RLQT3V8SMNIBH|B00IODHGVG|     717335277|Sylvania Alarm Cl...|     Electronics|          5|            0|          0|   N|                Y|          Five Stars|Love clock radio ...| 2015-08-31|\n",
      "|         US|   31463514|R3T9GZS2TMXZGM|B0035PBHX6|     249533961|Coby 8 GB 1.8-Inc...|     Electronics|          1|            0|          0|   N|                Y|            One Star|Breaks very easil...| 2015-08-31|\n",
      "|         US|   33475055|R24HVAEYP5PLDN|B00K1JJWFO|     635791633|Diamond (Original...|     Electronics|          5|            0|          1|   N|                Y|          Five Stars|Excellent gain in...| 2015-08-31|\n",
      "|         US|   16543871|R32KMAPNV5NJPJ|B00S3LJ5EA|     659360184|Kingvom 8gb 50 Ho...|     Electronics|          5|            0|          0|   N|                Y|          Five Stars|everything I expe...| 2015-08-31|\n",
      "|         US|   38472651| RC7VLPHUT6UAF|B00B5QNGN6|     564421014|JBL Ultra-Portabl...|     Electronics|          5|            0|          0|   N|                Y|          Five Stars|Love this small s...| 2015-08-31|\n",
      "|         US|   26946211|R3G1II8P4KGUAR|B00PLE8QF6|     685446417|YIPBOWPT Surface ...|     Electronics|          5|            0|          0|   N|                Y|       great product|works as advertis...| 2015-08-31|\n",
      "|         US|   10195727|R1UBFCBUALL6S5|B00GHUSIU6|     595255086|StarTech.com Mini...|     Electronics|          5|            0|          0|   N|                Y|          Five Stars|very good especia...| 2015-08-31|\n",
      "|         US|   47386264|R1WI5NISM6GAUG|B0045EJY90|     892920832|TEAC CD-P650-B Co...|     Electronics|          2|            4|          5|   N|                Y|It does not copy ...|It does not copy ...| 2015-08-31|\n",
      "|         US|   13000908|R27F4OF4BIA4LU|B003BT6BM8|     631236454|Philips SHS8100/2...|     Electronics|          2|            1|          1|   N|                Y|Did not last long...|Did not last long...| 2015-08-31|\n",
      "+-----------+-----------+--------------+----------+--------------+--------------------+----------------+-----------+-------------+-----------+----+-----------------+--------------------+--------------------+-----------+\n",
      "only showing top 20 rows\n",
      "\n"
     ]
    }
   ],
   "source": [
    "# Read in data from S3 Bucket\n",
    "from pyspark import SparkFiles\n",
    "url=\"https://s3.amazonaws.com/amazon-reviews-pds/tsv/amazon_reviews_us_Electronics_v1_00.tsv.gz\"\n",
    "spark.sparkContext.addFile(url)\n",
    "electronics_df = spark.read.csv(SparkFiles.get(\"amazon_reviews_us_Electronics_v1_00.tsv.gz\"), sep=\"\\t\", header=True, inferSchema=True)\n",
    "\n",
    "# Show DataFrame\n",
    "electronics_df.show()"
   ]
  },
  {
   "cell_type": "code",
   "execution_count": 5,
   "metadata": {
    "colab": {
     "base_uri": "https://localhost:8080/"
    },
    "id": "_kZEINNx0vmC",
    "outputId": "9e6b6ec5-5088-4d3b-e24c-f6801dfd7553"
   },
   "outputs": [
    {
     "data": {
      "text/plain": [
       "3093869"
      ]
     },
     "execution_count": 5,
     "metadata": {},
     "output_type": "execute_result"
    }
   ],
   "source": [
    "# Count the number of records\n",
    "electronics_df.count()"
   ]
  },
  {
   "cell_type": "markdown",
   "metadata": {
    "id": "5wRZyAlQ37ur"
   },
   "source": [
    "# TRANSFORM\n"
   ]
  },
  {
   "cell_type": "code",
   "execution_count": 6,
   "metadata": {
    "colab": {
     "base_uri": "https://localhost:8080/"
    },
    "id": "GFdKLNzv65xN",
    "outputId": "dfb4dfb6-fef5-4620-cc14-bc95d5bf71fd"
   },
   "outputs": [
    {
     "name": "stdout",
     "output_type": "stream",
     "text": [
      "+--------------+-----------+----------+--------------+-----------+\n",
      "|review_id     |customer_id|product_id|product_parent|review_date|\n",
      "+--------------+-----------+----------+--------------+-----------+\n",
      "|R2MTG1GCZLR2DK|41409413   |B00428R89M|112201306     |2015-08-31 |\n",
      "|R2HBOEM8LE9928|49668221   |B000068O48|734576678     |2015-08-31 |\n",
      "|R1P4RW1R9FDPEE|12338275   |B000GGKOG8|614448099     |2015-08-31 |\n",
      "|R1EBPM82ENI67M|38487968   |B000NU4OTA|72265257      |2015-08-31 |\n",
      "|R372S58V6D11AT|23732619   |B00JOQIO6S|308169188     |2015-08-31 |\n",
      "|R1A4514XOYI1PD|21257820   |B008NCD2LG|976385982     |2015-08-31 |\n",
      "|R20D9EHB7N20V6|3084991    |B00007FGUF|670878953     |2015-08-31 |\n",
      "|R1WUTD8MVSROJU|8153674    |B00M9V2RMM|508452933     |2015-08-31 |\n",
      "|R1QCYLT25812DM|52246189   |B00J3O9DYI|766372886     |2015-08-31 |\n",
      "|R904DQPBCEM7A |41463864   |B00NS1A0E4|458130381     |2015-08-31 |\n",
      "|R1DGA6UQIVLKZ7|2781942    |B007B5V092|152891509     |2015-08-31 |\n",
      "|RLQT3V8SMNIBH |707292     |B00IODHGVG|717335277     |2015-08-31 |\n",
      "|R3T9GZS2TMXZGM|31463514   |B0035PBHX6|249533961     |2015-08-31 |\n",
      "|R24HVAEYP5PLDN|33475055   |B00K1JJWFO|635791633     |2015-08-31 |\n",
      "|R32KMAPNV5NJPJ|16543871   |B00S3LJ5EA|659360184     |2015-08-31 |\n",
      "|RC7VLPHUT6UAF |38472651   |B00B5QNGN6|564421014     |2015-08-31 |\n",
      "|R3G1II8P4KGUAR|26946211   |B00PLE8QF6|685446417     |2015-08-31 |\n",
      "|R1UBFCBUALL6S5|10195727   |B00GHUSIU6|595255086     |2015-08-31 |\n",
      "|R1WI5NISM6GAUG|47386264   |B0045EJY90|892920832     |2015-08-31 |\n",
      "|R27F4OF4BIA4LU|13000908   |B003BT6BM8|631236454     |2015-08-31 |\n",
      "+--------------+-----------+----------+--------------+-----------+\n",
      "only showing top 20 rows\n",
      "\n"
     ]
    }
   ],
   "source": [
    "# Select \"review_id\", \"customer_id\", \"product_id\", \"product_parent\" and \"review_date\" columns\n",
    "reviews_df = electronics_df.select([\"review_id\", \"customer_id\", \"product_id\", \"product_parent\", \"review_date\"])\n",
    "reviews_df.show(truncate=False)"
   ]
  },
  {
   "cell_type": "code",
   "execution_count": 7,
   "metadata": {
    "id": "XSO-mXN6dhfx"
   },
   "outputs": [],
   "source": [
    "# Drop duplicates and null values\n",
    "reviews_df = reviews_df.drop_duplicates([\"review_id\"])\n",
    "reviews_df = reviews_df.dropna()"
   ]
  },
  {
   "cell_type": "code",
   "execution_count": 8,
   "metadata": {
    "id": "HWgIHF5t7yP3"
   },
   "outputs": [],
   "source": [
    "from datetime import datetime\n",
    "from pyspark.sql.functions import col, udf\n",
    "from pyspark.sql.types import DateType\n",
    "\n",
    "# Convert \"review_date\" column from string to date format\n",
    "date_format = udf(lambda x: datetime.strptime(x, \"%Y-%m-%d\"), DateType())\n",
    "reviews_df = reviews_df.withColumn(\"review_date\", date_format(col(\"review_date\")))"
   ]
  },
  {
   "cell_type": "code",
   "execution_count": 9,
   "metadata": {
    "colab": {
     "base_uri": "https://localhost:8080/"
    },
    "id": "2AUaHZuQ8aNa",
    "outputId": "cbf8323a-c9c9-446a-ed1d-84ba91ecf24e"
   },
   "outputs": [
    {
     "name": "stdout",
     "output_type": "stream",
     "text": [
      "root\n",
      " |-- review_id: string (nullable = true)\n",
      " |-- customer_id: integer (nullable = true)\n",
      " |-- product_id: string (nullable = true)\n",
      " |-- product_parent: integer (nullable = true)\n",
      " |-- review_date: date (nullable = true)\n",
      "\n"
     ]
    }
   ],
   "source": [
    "# 'review_id_table' \n",
    "reviews_df.printSchema()"
   ]
  },
  {
   "cell_type": "code",
   "execution_count": 10,
   "metadata": {
    "colab": {
     "base_uri": "https://localhost:8080/"
    },
    "id": "ZH_J94dhX_px",
    "outputId": "f61d0724-19ae-47b6-f0ee-4bfbc23c7932"
   },
   "outputs": [
    {
     "name": "stdout",
     "output_type": "stream",
     "text": [
      "+----------+--------------------------------------------------------------------------------------------------------------------------------------------------------------------------------------------------------+\n",
      "|product_id|product_title                                                                                                                                                                                           |\n",
      "+----------+--------------------------------------------------------------------------------------------------------------------------------------------------------------------------------------------------------+\n",
      "|0303532572|TDK Hi8 MP120 Premium Performance Camcorder Videotape (6-pack)                                                                                                                                          |\n",
      "|0528881469|Rand McNally 528881469 7-inch Intelliroute TND 700 Truck GPS                                                                                                                                            |\n",
      "|0594296420|Barnes & Noble Power Adapter for Nook Simple Touch                                                                                                                                                      |\n",
      "|0764801201|The Virtues of an Authentic Life: A Celebration of Spiritual Maturity                                                                                                                                   |\n",
      "|0954038053|Klipsch RB-81II Bookshelf Speaker - Black - Pair                                                                                                                                                        |\n",
      "|0970407998|Audiovox Surface SURF402 Wet/Dry Screen Wipes                                                                                                                                                           |\n",
      "|097185548X|Dave Ramsey's Financial Peace University Audio CD Library: 13 Life Changing Lessons                                                                                                                     |\n",
      "|0972683275|VideoSecu 24\" Long Arm TV Wall Mount Low Profile Articulating Full Motion Cantilever Swing Tilt wall bracket for most 22\" to 55\" LED LCD TV Monitor Flat Screen VESA 200x200 400x400 up to 600x400mm MAH|\n",
      "|1400532620|Barnes & Noble Nook eReader - no 3G                                                                                                                                                                     |\n",
      "|1400532655|Barnes & Noble NOOK Color eBook Tablet                                                                                                                                                                  |\n",
      "|140053271X|Barnes & Noble Nook Simple Touch eBook Reader (Wi-Fi Only)                                                                                                                                              |\n",
      "|1400599997|Barnes & Noble NOOK ebook reader (WiFi + 3G)[B&W]                                                                                                                                                       |\n",
      "|1468255665|Deep Bass DJ Headphones Black and Green                                                                                                                                                                 |\n",
      "|1585747416|Telling Lies and Getting Paid: Gambling Stories                                                                                                                                                         |\n",
      "|1590385101|The Work and the Glory - Vol 7 - (Audio CD) - No Unhallowed Hand                                                                                                                                        |\n",
      "|1590742729|Oxford English Pagemark Dictionary                                                                                                                                                                      |\n",
      "|1591399459|Reinventing the CFO: How Financial Managers Can Transform Their Roles and Add Greater Value                                                                                                             |\n",
      "|1600775160|Foreign Language Success for Kids                                                                                                                                                                       |\n",
      "|1610130383|iPhone 5 Paul Frank Plastic Soft Back Case for iPhone 5 240H & Get Free Screen Protector                                                                                                                |\n",
      "|1685560156|Hi-Fi Stereo Bluetooth Wireless Headset with mic Headphones                                                                                                                                             |\n",
      "+----------+--------------------------------------------------------------------------------------------------------------------------------------------------------------------------------------------------------+\n",
      "only showing top 20 rows\n",
      "\n"
     ]
    }
   ],
   "source": [
    "# Select \"product_id\" and \"product_title\" columns\n",
    "products_df = electronics_df.select([\"product_id\",\"product_title\"])\n",
    "\n",
    "# Drop duplicates and null values\n",
    "products_df = products_df.drop_duplicates([\"product_id\"])\n",
    "products_df = products_df.dropna()\n",
    "\n",
    "# Show DataFrame\n",
    "products_df.show(truncate=False)"
   ]
  },
  {
   "cell_type": "code",
   "execution_count": 11,
   "metadata": {
    "colab": {
     "base_uri": "https://localhost:8080/"
    },
    "id": "X-DXMIkPX_0P",
    "outputId": "8ee47dd8-0278-4cee-cea9-4056520f6e61"
   },
   "outputs": [
    {
     "name": "stdout",
     "output_type": "stream",
     "text": [
      "root\n",
      " |-- product_id: string (nullable = true)\n",
      " |-- product_title: string (nullable = true)\n",
      "\n"
     ]
    }
   ],
   "source": [
    "# 'products' table\n",
    "products_df.printSchema()"
   ]
  },
  {
   "cell_type": "code",
   "execution_count": 12,
   "metadata": {
    "colab": {
     "base_uri": "https://localhost:8080/"
    },
    "id": "GN0wiNtLnrmS",
    "outputId": "4083c5a8-3893-48d9-ec36-9f861e84ea2a"
   },
   "outputs": [
    {
     "name": "stdout",
     "output_type": "stream",
     "text": [
      "+-----------+--------------+\n",
      "|customer_id|customer_count|\n",
      "+-----------+--------------+\n",
      "|   42560427|             6|\n",
      "|   28871066|             1|\n",
      "|    6711334|             2|\n",
      "|   46393060|             1|\n",
      "|   48101124|             1|\n",
      "|   38209321|             1|\n",
      "|   47108763|             4|\n",
      "|   43252205|             1|\n",
      "|   41283385|             1|\n",
      "|   46909180|             5|\n",
      "|    5453476|             2|\n",
      "|   12406466|             3|\n",
      "|   48146680|             1|\n",
      "|    5953456|             1|\n",
      "|   16457323|             5|\n",
      "|   24540309|             1|\n",
      "|   43366878|             2|\n",
      "|   28796717|             1|\n",
      "|   28258386|             1|\n",
      "|   26079415|             2|\n",
      "+-----------+--------------+\n",
      "only showing top 20 rows\n",
      "\n"
     ]
    }
   ],
   "source": [
    "# unique customers and count of reviews\n",
    "customers_df = electronics_df.groupBy(\"customer_id\").count()\n",
    "customers_df = customers_df.withColumnRenamed(\"count\",\"customer_count\")\n",
    "customers_df.show()"
   ]
  },
  {
   "cell_type": "code",
   "execution_count": 13,
   "metadata": {
    "colab": {
     "base_uri": "https://localhost:8080/"
    },
    "id": "UvM1mRyalYwC",
    "outputId": "7f7d07f1-f384-4a4e-d599-178e7eeb6a32"
   },
   "outputs": [
    {
     "name": "stdout",
     "output_type": "stream",
     "text": [
      "root\n",
      " |-- customer_id: integer (nullable = true)\n",
      " |-- customer_count: long (nullable = false)\n",
      "\n"
     ]
    }
   ],
   "source": [
    "# 'customers' table\n",
    "customers_df.printSchema()"
   ]
  },
  {
   "cell_type": "code",
   "execution_count": 14,
   "metadata": {
    "colab": {
     "base_uri": "https://localhost:8080/"
    },
    "id": "FqJdRdiIpwZN",
    "outputId": "404133c0-24d2-4c08-8b7c-1fa98d0f1293"
   },
   "outputs": [
    {
     "name": "stdout",
     "output_type": "stream",
     "text": [
      "+--------------+-----------+-------------+-----------+----+\n",
      "|     review_id|star_rating|helpful_votes|total_votes|vine|\n",
      "+--------------+-----------+-------------+-----------+----+\n",
      "|R10000WMGXS51T|          5|            1|          1|   N|\n",
      "|R10003OLR2P5UE|          3|            0|          0|   N|\n",
      "|R10005O193PJ6W|          3|            2|          2|   N|\n",
      "|R10008LR7CU84N|          1|            2|          4|   N|\n",
      "|R10009JN2UWOJC|          5|            0|          0|   N|\n",
      "|R1000AMVKPW32O|          5|            0|          0|   N|\n",
      "|R1000CJMO2L8X4|          5|            0|          0|   N|\n",
      "|R1000EDGJUU3CU|          5|            1|          1|   N|\n",
      "|R1000EG9XXBLXT|          5|            1|          1|   N|\n",
      "|R1000GDC9S9VMP|          5|            0|          0|   N|\n",
      "|R1000K9CAN0EKG|          2|            5|          5|   N|\n",
      "|R1000T15352LT4|          2|            2|          4|   N|\n",
      "|R10014QUKXBWJB|          5|            1|          1|   N|\n",
      "|R1001FSAU03TN7|          5|            1|          1|   N|\n",
      "|R1001FUG2V3LVU|          5|            0|          0|   N|\n",
      "|R1001I7TIAFINI|          1|            5|          5|   N|\n",
      "|R1001J13VSFJBD|          4|            1|          1|   N|\n",
      "|R1001M0CYFXC5O|          5|            0|          0|   N|\n",
      "|R1001NPICDY11Z|          5|            2|          2|   N|\n",
      "|R1001V4BALDD2E|          4|            0|          0|   N|\n",
      "+--------------+-----------+-------------+-----------+----+\n",
      "only showing top 20 rows\n",
      "\n"
     ]
    }
   ],
   "source": [
    "# Select \"review_id\", \"star_rating\", \"helpful_votes\", \"total_votes\", \"vine\" columns\n",
    "vine_df = electronics_df.select([\"review_id\", \"star_rating\", \"helpful_votes\", \"total_votes\", \"vine\"])\n",
    "\n",
    "# Make sure there are only unique id numbers and drop null values\n",
    "vine_df = vine_df.drop_duplicates([\"review_id\"])\n",
    "vine_df = vine_df.dropna()\n",
    "\n",
    "vine_df.show()"
   ]
  },
  {
   "cell_type": "code",
   "execution_count": 15,
   "metadata": {
    "colab": {
     "base_uri": "https://localhost:8080/"
    },
    "id": "1PO_OmoTvc1w",
    "outputId": "ae291f96-39a2-4707-dea5-3ead7b754d68"
   },
   "outputs": [
    {
     "name": "stdout",
     "output_type": "stream",
     "text": [
      "root\n",
      " |-- review_id: string (nullable = true)\n",
      " |-- star_rating: integer (nullable = true)\n",
      " |-- helpful_votes: integer (nullable = true)\n",
      " |-- total_votes: integer (nullable = true)\n",
      " |-- vine: string (nullable = true)\n",
      "\n"
     ]
    }
   ],
   "source": [
    "# 'vine_table' \n",
    "vine_df.printSchema()"
   ]
  },
  {
   "cell_type": "markdown",
   "metadata": {
    "id": "94zmTGUdxT_D"
   },
   "source": [
    "# LOAD\n"
   ]
  },
  {
   "cell_type": "code",
   "execution_count": 17,
   "metadata": {
    "colab": {
     "base_uri": "https://localhost:8080/"
    },
    "id": "e67uWv-WG26F",
    "outputId": "705c4b8b-250e-4f69-ff23-119f22ab9f82"
   },
   "outputs": [
    {
     "name": "stdout",
     "output_type": "stream",
     "text": [
      "Mounted at /content/gdrive/\n"
     ]
    }
   ],
   "source": [
    "from google.colab import drive\n",
    "drive.mount('/content/gdrive/')"
   ]
  },
  {
   "cell_type": "code",
   "execution_count": 18,
   "metadata": {
    "id": "AFnqeZTIG3Cy"
   },
   "outputs": [],
   "source": [
    "import sys\n",
    "sys.path.append('/content/gdrive/MyDrive/Amazon Vine Program Analysis')"
   ]
  },
  {
   "cell_type": "code",
   "execution_count": 19,
   "metadata": {
    "id": "nN4RBtpYpwjH"
   },
   "outputs": [],
   "source": [
    "from config import endpoint, user_name, password\n",
    "# Configure settings for RDS\n",
    "mode1 = \"append\"\n",
    "mode2 = \"overwrite\"\n",
    "jdbc_url=\"jdbc:postgresql://\" + endpoint + \":5432/VineProgramDB\"\n",
    "config = {\"user\": user_name, \n",
    "          \"password\": password, \n",
    "          \"driver\":\"org.postgresql.Driver\"}"
   ]
  },
  {
   "cell_type": "code",
   "execution_count": 20,
   "metadata": {
    "id": "TOOSTIUPpwsX"
   },
   "outputs": [],
   "source": [
    "# Write reviews_df to 'review_id_table' table in RDS\n",
    "reviews_df.write.jdbc(url=jdbc_url, table='review_id_table', mode=mode1, properties=config)"
   ]
  },
  {
   "cell_type": "code",
   "execution_count": 21,
   "metadata": {
    "id": "ljfEcPK4pwwb"
   },
   "outputs": [],
   "source": [
    "# Write products_df to 'products' table in RDS\n",
    "products_df.write.jdbc(url=jdbc_url, table='products', mode=mode1, properties=config)"
   ]
  },
  {
   "cell_type": "code",
   "execution_count": 22,
   "metadata": {
    "id": "Tej1QwSLtC2A"
   },
   "outputs": [],
   "source": [
    "# Write customers_df to 'customers' table in RDS\n",
    "customers_df.write.jdbc(url=jdbc_url, table='customers', mode=mode1, properties=config)"
   ]
  },
  {
   "cell_type": "code",
   "execution_count": 23,
   "metadata": {
    "id": "r40yIMGnu8XZ"
   },
   "outputs": [],
   "source": [
    "# Write vine_df to 'vine_table' table in RDS\n",
    "vine_df.write.jdbc(url=jdbc_url, table='vine_table', mode=mode1, properties=config)"
   ]
  }
 ],
 "metadata": {
  "colab": {
   "name": "CloudETL_AmazonVine_Electronics.ipynb",
   "provenance": []
  },
  "kernelspec": {
   "display_name": "Python 3",
   "language": "python",
   "name": "python3"
  },
  "language_info": {
   "codemirror_mode": {
    "name": "ipython",
    "version": 3
   },
   "file_extension": ".py",
   "mimetype": "text/x-python",
   "name": "python",
   "nbconvert_exporter": "python",
   "pygments_lexer": "ipython3",
   "version": "3.8.5"
  }
 },
 "nbformat": 4,
 "nbformat_minor": 1
}
