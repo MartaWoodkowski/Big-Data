{
 "cells": [
  {
   "cell_type": "code",
   "execution_count": 1,
   "metadata": {
    "colab": {
     "base_uri": "https://localhost:8080/"
    },
    "id": "hIQhNM1Ry7kx",
    "outputId": "da91dd3d-ad5a-420a-98f2-5a55590f1142"
   },
   "outputs": [
    {
     "name": "stdout",
     "output_type": "stream",
     "text": [
      "\r",
      "0% [Working]\r",
      "            \r",
      "Get:1 https://cloud.r-project.org/bin/linux/ubuntu bionic-cran40/ InRelease [3,626 B]\n",
      "\r",
      "0% [Connecting to archive.ubuntu.com] [Waiting for headers] [1 InRelease 0 B/3,\r",
      "0% [Connecting to archive.ubuntu.com] [Waiting for headers] [Connecting to ppa.\r",
      "                                                                               \r",
      "Ign:2 https://developer.download.nvidia.com/compute/cuda/repos/ubuntu1804/x86_64  InRelease\n",
      "Get:3 http://security.ubuntu.com/ubuntu bionic-security InRelease [88.7 kB]\n",
      "Ign:4 https://developer.download.nvidia.com/compute/machine-learning/repos/ubuntu1804/x86_64  InRelease\n",
      "Get:5 https://developer.download.nvidia.com/compute/cuda/repos/ubuntu1804/x86_64  Release [696 B]\n",
      "Hit:6 https://developer.download.nvidia.com/compute/machine-learning/repos/ubuntu1804/x86_64  Release\n",
      "Get:7 https://developer.download.nvidia.com/compute/cuda/repos/ubuntu1804/x86_64  Release.gpg [836 B]\n",
      "Get:8 http://ppa.launchpad.net/c2d4u.team/c2d4u4.0+/ubuntu bionic InRelease [15.9 kB]\n",
      "Get:9 https://cloud.r-project.org/bin/linux/ubuntu bionic-cran40/ Packages [73.0 kB]\n",
      "Hit:10 http://archive.ubuntu.com/ubuntu bionic InRelease\n",
      "Get:11 http://archive.ubuntu.com/ubuntu bionic-updates InRelease [88.7 kB]\n",
      "Hit:13 http://ppa.launchpad.net/cran/libgit2/ubuntu bionic InRelease\n",
      "Get:14 https://developer.download.nvidia.com/compute/cuda/repos/ubuntu1804/x86_64  Packages [808 kB]\n",
      "Get:15 http://ppa.launchpad.net/deadsnakes/ppa/ubuntu bionic InRelease [15.9 kB]\n",
      "Get:16 http://archive.ubuntu.com/ubuntu bionic-backports InRelease [74.6 kB]\n",
      "Get:17 http://security.ubuntu.com/ubuntu bionic-security/restricted amd64 Packages [666 kB]\n",
      "Hit:18 http://ppa.launchpad.net/graphics-drivers/ppa/ubuntu bionic InRelease\n",
      "Get:19 http://security.ubuntu.com/ubuntu bionic-security/multiverse amd64 Packages [26.8 kB]\n",
      "Get:20 http://security.ubuntu.com/ubuntu bionic-security/universe amd64 Packages [1,442 kB]\n",
      "Get:21 http://security.ubuntu.com/ubuntu bionic-security/main amd64 Packages [2,430 kB]\n",
      "Get:22 http://ppa.launchpad.net/c2d4u.team/c2d4u4.0+/ubuntu bionic/main Sources [1,811 kB]\n",
      "Get:23 http://archive.ubuntu.com/ubuntu bionic-updates/universe amd64 Packages [2,222 kB]\n",
      "Get:24 http://ppa.launchpad.net/c2d4u.team/c2d4u4.0+/ubuntu bionic/main amd64 Packages [928 kB]\n",
      "Get:25 http://ppa.launchpad.net/deadsnakes/ppa/ubuntu bionic/main amd64 Packages [45.9 kB]\n",
      "Get:26 http://archive.ubuntu.com/ubuntu bionic-updates/restricted amd64 Packages [699 kB]\n",
      "Get:27 http://archive.ubuntu.com/ubuntu bionic-updates/main amd64 Packages [2,867 kB]\n",
      "Get:28 http://archive.ubuntu.com/ubuntu bionic-updates/multiverse amd64 Packages [34.4 kB]\n",
      "Fetched 14.3 MB in 8s (1,790 kB/s)\n",
      "Reading package lists... Done\n"
     ]
    }
   ],
   "source": [
    "import os\n",
    "\n",
    "# spark_version\n",
    "spark_version = 'spark-3.2.0'\n",
    "os.environ['SPARK_VERSION']=spark_version\n",
    "\n",
    "# Install Spark and Java\n",
    "!apt-get update\n",
    "!apt-get install openjdk-8-jdk-headless -qq > /dev/null\n",
    "!wget -q http://www.apache.org/dist/spark/$SPARK_VERSION/$SPARK_VERSION-bin-hadoop2.7.tgz\n",
    "!tar xf $SPARK_VERSION-bin-hadoop2.7.tgz\n",
    "!pip install -q findspark\n",
    "\n",
    "# Set Environment Variables\n",
    "os.environ[\"JAVA_HOME\"] = \"/usr/lib/jvm/java-8-openjdk-amd64\"\n",
    "os.environ[\"SPARK_HOME\"] = f\"/content/{spark_version}-bin-hadoop2.7\"\n",
    "\n",
    "# Start a SparkSession\n",
    "import findspark\n",
    "findspark.init()"
   ]
  },
  {
   "cell_type": "code",
   "execution_count": 2,
   "metadata": {
    "colab": {
     "base_uri": "https://localhost:8080/"
    },
    "id": "KOeVqYGUzTqe",
    "outputId": "fe60b67b-0b4f-4830-fe7a-c3d604da04d3"
   },
   "outputs": [
    {
     "name": "stdout",
     "output_type": "stream",
     "text": [
      "--2021-11-17 22:05:15--  https://jdbc.postgresql.org/download/postgresql-42.2.9.jar\n",
      "Resolving jdbc.postgresql.org (jdbc.postgresql.org)... 72.32.157.228, 2001:4800:3e1:1::228\n",
      "Connecting to jdbc.postgresql.org (jdbc.postgresql.org)|72.32.157.228|:443... connected.\n",
      "HTTP request sent, awaiting response... 200 OK\n",
      "Length: 914037 (893K) [application/java-archive]\n",
      "Saving to: ‘postgresql-42.2.9.jar’\n",
      "\n",
      "postgresql-42.2.9.j 100%[===================>] 892.61K  4.56MB/s    in 0.2s    \n",
      "\n",
      "2021-11-17 22:05:16 (4.56 MB/s) - ‘postgresql-42.2.9.jar’ saved [914037/914037]\n",
      "\n"
     ]
    }
   ],
   "source": [
    "!wget https://jdbc.postgresql.org/download/postgresql-42.2.9.jar"
   ]
  },
  {
   "cell_type": "code",
   "execution_count": 3,
   "metadata": {
    "id": "OsmsZU_NzaGZ"
   },
   "outputs": [],
   "source": [
    "from pyspark.sql import SparkSession\n",
    "spark = SparkSession.builder.appName(\"CloudETL\").config(\"spark.driver.extraClassPath\",\"/content/postgresql-42.2.9.jar\").getOrCreate()"
   ]
  },
  {
   "cell_type": "markdown",
   "metadata": {
    "id": "WEPzsZiw741M"
   },
   "source": [
    "# EXTRACT\n"
   ]
  },
  {
   "cell_type": "code",
   "execution_count": 4,
   "metadata": {
    "colab": {
     "base_uri": "https://localhost:8080/"
    },
    "id": "S3tobKKCzhHe",
    "outputId": "0aabb9b1-4d32-4003-c42f-99150638a1e7"
   },
   "outputs": [
    {
     "name": "stdout",
     "output_type": "stream",
     "text": [
      "+-----------+-----------+--------------+----------+--------------+--------------------+----------------+-----------+-------------+-----------+----+-----------------+--------------------+--------------------+-----------+\n",
      "|marketplace|customer_id|     review_id|product_id|product_parent|       product_title|product_category|star_rating|helpful_votes|total_votes|vine|verified_purchase|     review_headline|         review_body|review_date|\n",
      "+-----------+-----------+--------------+----------+--------------+--------------------+----------------+-----------+-------------+-----------+----+-----------------+--------------------+--------------------+-----------+\n",
      "|         US|   37000337|R3DT59XH7HXR9K|B00303FI0G|     529320574|Arthur Court Pape...|         Kitchen|          5|            0|          0|   N|                Y|Beautiful. Looks ...|Beautiful.  Looks...| 2015-08-31|\n",
      "|         US|   15272914|R1LFS11BNASSU8|B00JCZKZN6|     274237558|Olde Thompson Bav...|         Kitchen|          5|            0|          1|   N|                Y| Awesome & Self-ness|I personally have...| 2015-08-31|\n",
      "|         US|   36137863|R296RT05AG0AF6|B00JLIKA5C|     544675303|Progressive Inter...|         Kitchen|          5|            0|          0|   N|                Y|Fabulous and wort...|Fabulous and wort...| 2015-08-31|\n",
      "|         US|   43311049|R3V37XDZ7ZCI3L|B000GBNB8G|     491599489|Zyliss Jumbo Garl...|         Kitchen|          5|            0|          1|   N|                Y|          Five Stars|A must if you lov...| 2015-08-31|\n",
      "|         US|   13763148|R14GU232NQFYX2|B00VJ5KX9S|     353790155|1 X Premier Pizza...|         Kitchen|          5|            0|          0|   N|                Y|     Better than sex|Worth every penny...| 2015-08-31|\n",
      "|         US|   19009420| RZQH4V7L2O1PL|B00HYB5YY0|     432241873|       CHEF Aluminum|         Kitchen|          1|            1|          1|   N|                Y|Does not work on ...|The description s...| 2015-08-31|\n",
      "|         US|   40599388|R1F8JMOSPJ3KO7|B000HEBAV2|     584680984|Presto Dual Profr...|         Kitchen|          5|            0|          0|   N|                Y|Awesome! First fr...|Awesome! First fr...| 2015-08-31|\n",
      "|         US|   22719359|R1ZISGY2BWW4Z5|B0012DS4GG|     772637306|Rubbermaid Produc...|         Kitchen|          5|            0|          0|   N|                Y|          Five Stars|Very good item. Q...| 2015-08-31|\n",
      "|         US|   47478640|R17PW4I3AE5WZW|B00FLQ4EE6|     755416578|Cuisinart 12-Piec...|         Kitchen|          5|            0|          0|   N|                Y|          Five Stars|sharp and look great| 2015-08-31|\n",
      "|         US|   34195504|R3D93G1KTP6A8P|B00DBS9OTG|     648762742|Kegco 6\" Stainles...|         Kitchen|          3|            0|          0|   N|                Y|         Three Stars|Should have come ...| 2015-08-31|\n",
      "|         US|   19100570|R18TQIW1NKPUNU|B00AN9UJ68|     495720940|Cuisinart Smart S...|         Kitchen|          5|            0|          0|   N|                Y|          Five Stars|  my friend loves it| 2015-08-31|\n",
      "|         US|   10299811|R34KUNL21WU248|B00L2P0KNO|      41330497|Searzall Torch At...|         Kitchen|          4|            0|          0|   N|                Y|          Four Stars|works as expected...| 2015-08-31|\n",
      "|         US|   32687006|R2YA1ZA53X12IN|B00NQOJQXY|     191893454|Wilton 1512-1664 ...|         Kitchen|          5|            0|          0|   N|                Y|               great|               great| 2015-08-31|\n",
      "|         US|   43260893|R2ZD1IGC9UU55X|B00080QE1Q|     277442428|Magnalite Classic...|         Kitchen|          5|            1|          1|   N|                Y|         Great Pots!|Fantastic product...| 2015-08-31|\n",
      "|         US|    8067227| R9J2YMVZTUVZ7|B009VU17ZM|     414077276|Sun's Tea(TM) 20o...|         Kitchen|          5|            0|          0|   N|                Y|          Five Stars|Work great, well ...| 2015-08-31|\n",
      "|         US|   18139929|R2UUXJ0WQR0CNI|B00MY71KO2|     138697457|Adventure Time Be...|         Kitchen|          4|            0|          0|   N|                Y|              So big|holds a loooot of...| 2015-08-31|\n",
      "|         US|   12282702|R3S9QICITG73JZ|B00A6N18CK|      48180946|DecoBros 3 Tier D...|         Kitchen|          5|            0|          0|   N|                Y|It looks nice & n...|The DecoBros K cu...| 2015-08-31|\n",
      "|         US|   38649737|R3LISNJHS64PDA|B00AB8NOLS|      67759108|Brita Water Filte...|         Kitchen|          4|            0|          0|   N|                Y|          Four Stars| Met my expectations| 2015-08-31|\n",
      "|         US|   33460969|R28RB82UG4RDD5|B00FB4UPA0|      10711472|Nifty Home 24 K-C...|         Kitchen|          5|           20|         20|   N|                Y| Saves counter space|Fits under my ful...| 2015-08-31|\n",
      "|         US|   40274860|R3H0PRVII5991X|B00YMHBQ0A|     618617346|Eoonfirst Snoopy ...|         Kitchen|          5|            0|          0|   N|                Y|          Five Stars|            Love it!| 2015-08-31|\n",
      "+-----------+-----------+--------------+----------+--------------+--------------------+----------------+-----------+-------------+-----------+----+-----------------+--------------------+--------------------+-----------+\n",
      "only showing top 20 rows\n",
      "\n"
     ]
    }
   ],
   "source": [
    "# Read in data from S3 Bucket\n",
    "from pyspark import SparkFiles\n",
    "url=\"https://s3.amazonaws.com/amazon-reviews-pds/tsv/amazon_reviews_us_Kitchen_v1_00.tsv.gz\"\n",
    "spark.sparkContext.addFile(url)\n",
    "kitchen_df = spark.read.csv(SparkFiles.get(\"amazon_reviews_us_Kitchen_v1_00.tsv.gz\"), sep=\"\\t\",header=True, inferSchema=True)\n",
    "\n",
    "# Show DataFrame\n",
    "kitchen_df.show()"
   ]
  },
  {
   "cell_type": "code",
   "execution_count": 5,
   "metadata": {
    "colab": {
     "base_uri": "https://localhost:8080/"
    },
    "id": "8LBeGbk2xlPC",
    "outputId": "7ca127cb-9227-45a1-c121-8017f0373294"
   },
   "outputs": [
    {
     "data": {
      "text/plain": [
       "4880466"
      ]
     },
     "execution_count": 5,
     "metadata": {},
     "output_type": "execute_result"
    }
   ],
   "source": [
    "# Count the number of records\n",
    "kitchen_df.count()"
   ]
  },
  {
   "cell_type": "markdown",
   "metadata": {
    "id": "jgZulVSdE-5z"
   },
   "source": [
    "# TRANSFORM"
   ]
  },
  {
   "cell_type": "code",
   "execution_count": 6,
   "metadata": {
    "colab": {
     "base_uri": "https://localhost:8080/"
    },
    "id": "cz8GhWyixnh0",
    "outputId": "2aa0d130-e1dc-4478-b490-ea000a8b07c3"
   },
   "outputs": [
    {
     "name": "stdout",
     "output_type": "stream",
     "text": [
      "+--------------+-----------+----------+--------------+-----------+\n",
      "|review_id     |customer_id|product_id|product_parent|review_date|\n",
      "+--------------+-----------+----------+--------------+-----------+\n",
      "|R3DT59XH7HXR9K|37000337   |B00303FI0G|529320574     |2015-08-31 |\n",
      "|R1LFS11BNASSU8|15272914   |B00JCZKZN6|274237558     |2015-08-31 |\n",
      "|R296RT05AG0AF6|36137863   |B00JLIKA5C|544675303     |2015-08-31 |\n",
      "|R3V37XDZ7ZCI3L|43311049   |B000GBNB8G|491599489     |2015-08-31 |\n",
      "|R14GU232NQFYX2|13763148   |B00VJ5KX9S|353790155     |2015-08-31 |\n",
      "|RZQH4V7L2O1PL |19009420   |B00HYB5YY0|432241873     |2015-08-31 |\n",
      "|R1F8JMOSPJ3KO7|40599388   |B000HEBAV2|584680984     |2015-08-31 |\n",
      "|R1ZISGY2BWW4Z5|22719359   |B0012DS4GG|772637306     |2015-08-31 |\n",
      "|R17PW4I3AE5WZW|47478640   |B00FLQ4EE6|755416578     |2015-08-31 |\n",
      "|R3D93G1KTP6A8P|34195504   |B00DBS9OTG|648762742     |2015-08-31 |\n",
      "|R18TQIW1NKPUNU|19100570   |B00AN9UJ68|495720940     |2015-08-31 |\n",
      "|R34KUNL21WU248|10299811   |B00L2P0KNO|41330497      |2015-08-31 |\n",
      "|R2YA1ZA53X12IN|32687006   |B00NQOJQXY|191893454     |2015-08-31 |\n",
      "|R2ZD1IGC9UU55X|43260893   |B00080QE1Q|277442428     |2015-08-31 |\n",
      "|R9J2YMVZTUVZ7 |8067227    |B009VU17ZM|414077276     |2015-08-31 |\n",
      "|R2UUXJ0WQR0CNI|18139929   |B00MY71KO2|138697457     |2015-08-31 |\n",
      "|R3S9QICITG73JZ|12282702   |B00A6N18CK|48180946      |2015-08-31 |\n",
      "|R3LISNJHS64PDA|38649737   |B00AB8NOLS|67759108      |2015-08-31 |\n",
      "|R28RB82UG4RDD5|33460969   |B00FB4UPA0|10711472      |2015-08-31 |\n",
      "|R3H0PRVII5991X|40274860   |B00YMHBQ0A|618617346     |2015-08-31 |\n",
      "+--------------+-----------+----------+--------------+-----------+\n",
      "only showing top 20 rows\n",
      "\n"
     ]
    }
   ],
   "source": [
    "# Select \"review_id\", \"customer_id\", \"product_id\", \"product_parent\" and \"review_date\" columns\n",
    "reviews_df = kitchen_df.select([\"review_id\", \"customer_id\", \"product_id\", \"product_parent\", \"review_date\"])\n",
    "reviews_df.show(truncate=False)"
   ]
  },
  {
   "cell_type": "code",
   "execution_count": 7,
   "metadata": {
    "id": "FxANL691x0-_"
   },
   "outputs": [],
   "source": [
    "# Drop duplicates and null values\n",
    "reviews_df = reviews_df.drop_duplicates([\"review_id\"])\n",
    "reviews_df = reviews_df.dropna()"
   ]
  },
  {
   "cell_type": "code",
   "execution_count": 8,
   "metadata": {
    "id": "RJRrNv1Rx7dP"
   },
   "outputs": [],
   "source": [
    "from datetime import datetime\n",
    "from pyspark.sql.functions import col, udf\n",
    "from pyspark.sql.types import DateType\n",
    "\n",
    "# Convert \"review_date\" column from string to date format\n",
    "date_format = udf(lambda x: datetime.strptime(x, \"%Y-%m-%d\"), DateType())\n",
    "reviews_df = reviews_df.withColumn(\"review_date\", date_format(col(\"review_date\")))"
   ]
  },
  {
   "cell_type": "code",
   "execution_count": 9,
   "metadata": {
    "colab": {
     "base_uri": "https://localhost:8080/"
    },
    "id": "87G5L7r8yD9H",
    "outputId": "a25ac774-4bed-4525-c0b7-7cc64149a42f"
   },
   "outputs": [
    {
     "name": "stdout",
     "output_type": "stream",
     "text": [
      "root\n",
      " |-- review_id: string (nullable = true)\n",
      " |-- customer_id: integer (nullable = true)\n",
      " |-- product_id: string (nullable = true)\n",
      " |-- product_parent: integer (nullable = true)\n",
      " |-- review_date: date (nullable = true)\n",
      "\n"
     ]
    }
   ],
   "source": [
    "# 'review_id_table' \n",
    "reviews_df.printSchema()"
   ]
  },
  {
   "cell_type": "code",
   "execution_count": 10,
   "metadata": {
    "colab": {
     "base_uri": "https://localhost:8080/"
    },
    "id": "tBM7qoIxyIx5",
    "outputId": "5ec5a4d6-11a2-4a7f-b29b-fb205fa9f726"
   },
   "outputs": [
    {
     "name": "stdout",
     "output_type": "stream",
     "text": [
      "+----------+------------------------------------------------------------------------------------------------------------------+\n",
      "|product_id|product_title                                                                                                     |\n",
      "+----------+------------------------------------------------------------------------------------------------------------------+\n",
      "|0130350591|Le Creuset Kiwi (Green) Butter Dish Stoneware                                                                     |\n",
      "|0594006112|Elf on the Shelf 10oz (Christmas Mug)                                                                             |\n",
      "|0594255139|Shh I'm Reading Porcelain Coffee/TEA Mug                                                                          |\n",
      "|0594456207|Hooty Owl Fold Over Lunch Tote 9\" x 7\" x 4.75\"                                                                    |\n",
      "|0641929307|Vera Bradley Blue Rhapsody Mug W/Lid                                                                              |\n",
      "|0641967969|Happy Sales 6 Piece Cherry Blossom Ramen Udon Noodle Soup Bowls, Blue                                             |\n",
      "|0681929936|Harry Potter and the Deathly Hallows Hogwarts Patch                                                               |\n",
      "|0692310479|This Girl Minds Her P's & Q's: An Etiquette Handbook for Dinner Parties, Restaurants, and Bars                    |\n",
      "|0705394492|CR Gibson Black Deluxe Recipe Binder (Includes Recipe Cards, Sheet Protectors, Divider Pages & Tie Clasp Envelope)|\n",
      "|0748185259|Weight Watchers Electronic Food Scale w/ Points Values Database                                                   |\n",
      "|0794813674|United States Flag Flag Size 3 Feet X 5 Feet                                                                      |\n",
      "|0805469613|Communion Cups-Plastic, 500ct                                                                                     |\n",
      "|0805470794|White Plastic 16 Ounce Push Button Lever Hand \"Lords Supper\" Communion Cup Filler Church (Button-Release)         |\n",
      "|0805470875|Communion Cup Filler                                                                                              |\n",
      "|0805471219|Communion Cups - Box of 1000 - Disposable                                                                         |\n",
      "|0912696362|Wilton Decorating Tools                                                                                           |\n",
      "|0965774643|The Bartender's Black Book                                                                                        |\n",
      "|0974460516|Nordic Ware Hard Cover Bundt Cookbook with 150 Recipes                                                            |\n",
      "|097857141X|Vi Whittington Cooked Sugar Art                                                                                   |\n",
      "|0979210712|Handstand Kids Child's 'Eat Your Fruits and Veggies' Chef's Hat                                                   |\n",
      "+----------+------------------------------------------------------------------------------------------------------------------+\n",
      "only showing top 20 rows\n",
      "\n"
     ]
    }
   ],
   "source": [
    "# Select \"product_id\" and \"product_title\" columns\n",
    "products_df = kitchen_df.select([\"product_id\",\"product_title\"])\n",
    "\n",
    "# Drop duplicates and null values\n",
    "products_df = products_df.drop_duplicates([\"product_id\"])\n",
    "products_df = products_df.dropna()\n",
    "\n",
    "# Show DataFrame\n",
    "products_df.show(truncate=False)"
   ]
  },
  {
   "cell_type": "code",
   "execution_count": 11,
   "metadata": {
    "colab": {
     "base_uri": "https://localhost:8080/"
    },
    "id": "DQQPLxLaydSJ",
    "outputId": "aa76f32c-34c3-433e-d267-fefa3ffdf887"
   },
   "outputs": [
    {
     "name": "stdout",
     "output_type": "stream",
     "text": [
      "root\n",
      " |-- product_id: string (nullable = true)\n",
      " |-- product_title: string (nullable = true)\n",
      "\n"
     ]
    }
   ],
   "source": [
    "# 'products' table \n",
    "products_df.printSchema()"
   ]
  },
  {
   "cell_type": "code",
   "execution_count": 12,
   "metadata": {
    "colab": {
     "base_uri": "https://localhost:8080/"
    },
    "id": "V9xVdnM9yiFo",
    "outputId": "d1bd2895-94c0-4ef8-c333-922f4cf2c420"
   },
   "outputs": [
    {
     "name": "stdout",
     "output_type": "stream",
     "text": [
      "+-----------+--------------+\n",
      "|customer_id|customer_count|\n",
      "+-----------+--------------+\n",
      "|   23042837|             1|\n",
      "|   48875707|             2|\n",
      "|   48088660|             1|\n",
      "|   20781887|             6|\n",
      "|    1075003|             1|\n",
      "|   28377689|             3|\n",
      "|    8338749|             1|\n",
      "|   39271457|             6|\n",
      "|   38209321|             5|\n",
      "|   51397605|             1|\n",
      "|   45337932|             7|\n",
      "|   12948675|             3|\n",
      "|   38892468|             1|\n",
      "|   43582450|             1|\n",
      "|   13156755|             1|\n",
      "|   13433330|             1|\n",
      "|   17067926|             7|\n",
      "|   13780617|             1|\n",
      "|   50607818|             1|\n",
      "|   33437759|             2|\n",
      "+-----------+--------------+\n",
      "only showing top 20 rows\n",
      "\n"
     ]
    }
   ],
   "source": [
    "# unique customers and count of reviews\n",
    "customers_df = kitchen_df.groupBy(\"customer_id\").count()\n",
    "customers_df = customers_df.withColumnRenamed(\"count\",\"customer_count\")\n",
    "customers_df.show()"
   ]
  },
  {
   "cell_type": "code",
   "execution_count": 13,
   "metadata": {
    "colab": {
     "base_uri": "https://localhost:8080/"
    },
    "id": "gD_mfe3ryzg6",
    "outputId": "afc5a9a5-0ddc-4182-e33b-93a11a95797f"
   },
   "outputs": [
    {
     "name": "stdout",
     "output_type": "stream",
     "text": [
      "root\n",
      " |-- customer_id: integer (nullable = true)\n",
      " |-- customer_count: long (nullable = false)\n",
      "\n"
     ]
    }
   ],
   "source": [
    "# 'customers' table\n",
    "customers_df.printSchema()"
   ]
  },
  {
   "cell_type": "code",
   "execution_count": 14,
   "metadata": {
    "colab": {
     "base_uri": "https://localhost:8080/"
    },
    "id": "OgKagHmzy1TF",
    "outputId": "d98b6485-070a-488f-f459-ac39856f14ee"
   },
   "outputs": [
    {
     "name": "stdout",
     "output_type": "stream",
     "text": [
      "+--------------+-----------+-------------+-----------+----+\n",
      "|     review_id|star_rating|helpful_votes|total_votes|vine|\n",
      "+--------------+-----------+-------------+-----------+----+\n",
      "|R10002O5HSLMDW|          5|            0|          0|   N|\n",
      "|R100042H9DN6G5|          5|            0|          0|   N|\n",
      "|R100065LWA66A9|          4|            0|          1|   N|\n",
      "|R10006YK5ARTDT|          5|            0|          0|   N|\n",
      "|R100079NQX5FV0|          5|            0|          0|   N|\n",
      "|R10009BPC6YR2T|          4|            0|          0|   N|\n",
      "|R1000CEJZ30MZL|          5|            1|          2|   N|\n",
      "|R1000CK3G7C8XX|          5|            0|          0|   N|\n",
      "|R1000IX1RKMQ8T|          5|            0|          0|   N|\n",
      "|R1000JEOH5IPCA|          4|            0|          0|   N|\n",
      "|R1000L0JTNVOMK|          5|            0|          0|   N|\n",
      "|R1000MJ0FG0INR|          4|            0|          0|   N|\n",
      "|R1000OO0PP3MXV|          5|            0|          0|   N|\n",
      "|R1000OU7YF4TL6|          5|            0|          0|   N|\n",
      "|R1000Q6D5VN5JZ|          5|            0|          0|   N|\n",
      "|R1000QDIY1UK5P|          5|            0|          0|   N|\n",
      "|R1000UW1F9XVO3|          5|            1|          1|   N|\n",
      "|R1000XT2HY658Q|          5|            0|          0|   N|\n",
      "| R1001006LW4E5|          5|            2|          3|   N|\n",
      "|R10011BSYPGDXV|          5|            1|          1|   N|\n",
      "+--------------+-----------+-------------+-----------+----+\n",
      "only showing top 20 rows\n",
      "\n"
     ]
    }
   ],
   "source": [
    "# Select \"review_id\", \"star_rating\", \"helpful_votes\", \"total_votes\", \"vine\" columns\n",
    "vine_df = kitchen_df.select([\"review_id\", \"star_rating\", \"helpful_votes\", \"total_votes\", \"vine\"])\n",
    "\n",
    "# Make sure there are only unique id numbers and drop null values\n",
    "vine_df = vine_df.drop_duplicates([\"review_id\"])\n",
    "vine_df = vine_df.dropna()\n",
    "\n",
    "vine_df.show()"
   ]
  },
  {
   "cell_type": "code",
   "execution_count": 15,
   "metadata": {
    "colab": {
     "base_uri": "https://localhost:8080/"
    },
    "id": "T6aEO3rXzInh",
    "outputId": "530641bb-8875-4b36-fbcb-6a2b34098a51"
   },
   "outputs": [
    {
     "name": "stdout",
     "output_type": "stream",
     "text": [
      "root\n",
      " |-- review_id: string (nullable = true)\n",
      " |-- star_rating: integer (nullable = true)\n",
      " |-- helpful_votes: integer (nullable = true)\n",
      " |-- total_votes: integer (nullable = true)\n",
      " |-- vine: string (nullable = true)\n",
      "\n"
     ]
    }
   ],
   "source": [
    "# 'vine_table' \n",
    "vine_df.printSchema()"
   ]
  },
  {
   "cell_type": "markdown",
   "metadata": {
    "id": "uMl6fg6zzNEJ"
   },
   "source": [
    "# LOAD\n"
   ]
  },
  {
   "cell_type": "code",
   "execution_count": 17,
   "metadata": {
    "colab": {
     "base_uri": "https://localhost:8080/"
    },
    "id": "GXBhTYrb_jri",
    "outputId": "27dcea8a-b07a-4fdb-ddf1-ebbb9b8998cf"
   },
   "outputs": [
    {
     "name": "stdout",
     "output_type": "stream",
     "text": [
      "Mounted at /content/gdrive/\n"
     ]
    }
   ],
   "source": [
    "from google.colab import drive\n",
    "drive.mount('/content/gdrive/')"
   ]
  },
  {
   "cell_type": "code",
   "execution_count": 19,
   "metadata": {
    "id": "JO4tNF2Q_56f"
   },
   "outputs": [],
   "source": [
    "import sys\n",
    "sys.path.append('/content/gdrive/MyDrive/Amazon Vine Program Analysis')"
   ]
  },
  {
   "cell_type": "code",
   "execution_count": 20,
   "metadata": {
    "id": "rEGxcN0xzQM7"
   },
   "outputs": [],
   "source": [
    "from config import endpoint, user_name, password\n",
    "# Configure settings for RDS\n",
    "mode1 = \"append\"\n",
    "mode2 = \"overwrite\"\n",
    "jdbc_url=\"jdbc:postgresql://\" + endpoint + \":5432/VineProgramDB\"\n",
    "config = {\"user\": user_name, \n",
    "          \"password\": password, \n",
    "          \"driver\":\"org.postgresql.Driver\"}"
   ]
  },
  {
   "cell_type": "code",
   "execution_count": 21,
   "metadata": {
    "id": "ZKGY2ZmjzTi9"
   },
   "outputs": [],
   "source": [
    "# Write reviews_df to 'review_id_table' table in RDS\n",
    "reviews_df.write.jdbc(url=jdbc_url, table='review_id_table', mode=mode1, properties=config)"
   ]
  },
  {
   "cell_type": "code",
   "execution_count": 22,
   "metadata": {
    "id": "Jxf4rge-zXQL"
   },
   "outputs": [],
   "source": [
    "# Write products_df to 'products' table in RDS\n",
    "products_df.write.jdbc(url=jdbc_url, table='products', mode=mode1, properties=config)"
   ]
  },
  {
   "cell_type": "code",
   "execution_count": 23,
   "metadata": {
    "id": "ab9KWb_zzXaG"
   },
   "outputs": [],
   "source": [
    "# Write customers_df to 'customers' table in RDS\n",
    "customers_df.write.jdbc(url=jdbc_url, table='customers', mode=mode1, properties=config)"
   ]
  },
  {
   "cell_type": "code",
   "execution_count": 24,
   "metadata": {
    "id": "nSzzlYCBzXid"
   },
   "outputs": [],
   "source": [
    "# Write vine_df to 'vine_table' table in RDS\n",
    "vine_df.write.jdbc(url=jdbc_url, table='vine_table', mode=mode1, properties=config)"
   ]
  }
 ],
 "metadata": {
  "colab": {
   "name": "CloudETL_AmazonVine_Kitchen.ipynb",
   "provenance": []
  },
  "kernelspec": {
   "display_name": "Python 3",
   "language": "python",
   "name": "python3"
  },
  "language_info": {
   "codemirror_mode": {
    "name": "ipython",
    "version": 3
   },
   "file_extension": ".py",
   "mimetype": "text/x-python",
   "name": "python",
   "nbconvert_exporter": "python",
   "pygments_lexer": "ipython3",
   "version": "3.8.5"
  }
 },
 "nbformat": 4,
 "nbformat_minor": 1
}
