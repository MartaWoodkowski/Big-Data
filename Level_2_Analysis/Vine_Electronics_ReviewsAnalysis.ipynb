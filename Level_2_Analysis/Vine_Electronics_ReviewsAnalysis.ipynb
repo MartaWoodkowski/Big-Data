{
  "nbformat": 4,
  "nbformat_minor": 0,
  "metadata": {
    "colab": {
      "name": "Vine_Electronics_ReviewsAnalysis.ipynb",
      "provenance": []
    },
    "kernelspec": {
      "name": "python3",
      "display_name": "Python 3"
    },
    "language_info": {
      "name": "python"
    }
  },
  "cells": [
    {
      "cell_type": "code",
      "metadata": {
        "colab": {
          "base_uri": "https://localhost:8080/"
        },
        "id": "r2cu0oVgGGRp",
        "outputId": "dbd607df-2ade-4f2d-d16c-1913fe0974a6"
      },
      "source": [
        "import os\n",
        "\n",
        "# spark_version\n",
        "spark_version = 'spark-3.2.0'\n",
        "os.environ['SPARK_VERSION']=spark_version\n",
        "\n",
        "# Install Spark and Java\n",
        "!apt-get update\n",
        "!apt-get install openjdk-8-jdk-headless -qq > /dev/null\n",
        "!wget -q http://www.apache.org/dist/spark/$SPARK_VERSION/$SPARK_VERSION-bin-hadoop2.7.tgz\n",
        "!tar xf $SPARK_VERSION-bin-hadoop2.7.tgz\n",
        "!pip install -q findspark\n",
        "\n",
        "# Set Environment Variables\n",
        "os.environ[\"JAVA_HOME\"] = \"/usr/lib/jvm/java-8-openjdk-amd64\"\n",
        "os.environ[\"SPARK_HOME\"] = f\"/content/{spark_version}-bin-hadoop2.7\"\n",
        "\n",
        "# Start a SparkSession\n",
        "import findspark\n",
        "findspark.init()"
      ],
      "execution_count": 1,
      "outputs": [
        {
          "output_type": "stream",
          "name": "stdout",
          "text": [
            "Get:1 https://cloud.r-project.org/bin/linux/ubuntu bionic-cran40/ InRelease [3,626 B]\n",
            "Ign:2 https://developer.download.nvidia.com/compute/cuda/repos/ubuntu1804/x86_64  InRelease\n",
            "Ign:3 https://developer.download.nvidia.com/compute/machine-learning/repos/ubuntu1804/x86_64  InRelease\n",
            "Get:4 https://developer.download.nvidia.com/compute/cuda/repos/ubuntu1804/x86_64  Release [696 B]\n",
            "Hit:5 https://developer.download.nvidia.com/compute/machine-learning/repos/ubuntu1804/x86_64  Release\n",
            "Get:6 http://ppa.launchpad.net/c2d4u.team/c2d4u4.0+/ubuntu bionic InRelease [15.9 kB]\n",
            "Get:7 https://developer.download.nvidia.com/compute/cuda/repos/ubuntu1804/x86_64  Release.gpg [836 B]\n",
            "Get:8 https://cloud.r-project.org/bin/linux/ubuntu bionic-cran40/ Packages [73.0 kB]\n",
            "Get:9 http://security.ubuntu.com/ubuntu bionic-security InRelease [88.7 kB]\n",
            "Hit:10 http://archive.ubuntu.com/ubuntu bionic InRelease\n",
            "Get:12 http://archive.ubuntu.com/ubuntu bionic-updates InRelease [88.7 kB]\n",
            "Hit:13 http://ppa.launchpad.net/cran/libgit2/ubuntu bionic InRelease\n",
            "Get:14 https://developer.download.nvidia.com/compute/cuda/repos/ubuntu1804/x86_64  Packages [808 kB]\n",
            "Get:15 http://ppa.launchpad.net/deadsnakes/ppa/ubuntu bionic InRelease [15.9 kB]\n",
            "Get:16 http://archive.ubuntu.com/ubuntu bionic-backports InRelease [74.6 kB]\n",
            "Hit:17 http://ppa.launchpad.net/graphics-drivers/ppa/ubuntu bionic InRelease\n",
            "Get:18 http://security.ubuntu.com/ubuntu bionic-security/main amd64 Packages [2,430 kB]\n",
            "Get:19 http://ppa.launchpad.net/c2d4u.team/c2d4u4.0+/ubuntu bionic/main Sources [1,811 kB]\n",
            "Get:20 http://archive.ubuntu.com/ubuntu bionic-updates/multiverse amd64 Packages [34.4 kB]\n",
            "Get:21 http://archive.ubuntu.com/ubuntu bionic-updates/restricted amd64 Packages [699 kB]\n",
            "Get:22 http://archive.ubuntu.com/ubuntu bionic-updates/universe amd64 Packages [2,222 kB]\n",
            "Get:23 http://security.ubuntu.com/ubuntu bionic-security/restricted amd64 Packages [666 kB]\n",
            "Get:24 http://security.ubuntu.com/ubuntu bionic-security/universe amd64 Packages [1,442 kB]\n",
            "Get:25 http://security.ubuntu.com/ubuntu bionic-security/multiverse amd64 Packages [26.8 kB]\n",
            "Get:26 http://archive.ubuntu.com/ubuntu bionic-updates/main amd64 Packages [2,867 kB]\n",
            "Get:27 http://ppa.launchpad.net/c2d4u.team/c2d4u4.0+/ubuntu bionic/main amd64 Packages [928 kB]\n",
            "Get:28 http://ppa.launchpad.net/deadsnakes/ppa/ubuntu bionic/main amd64 Packages [45.9 kB]\n",
            "Fetched 14.3 MB in 7s (1,990 kB/s)\n",
            "Reading package lists... Done\n"
          ]
        }
      ]
    },
    {
      "cell_type": "code",
      "metadata": {
        "id": "GXcORTFgGMTX"
      },
      "source": [
        "from pyspark.sql import SparkSession\n",
        "spark = SparkSession.builder.appName(\"CloudVineAnalysis\").getOrCreate()"
      ],
      "execution_count": 2,
      "outputs": []
    },
    {
      "cell_type": "code",
      "metadata": {
        "colab": {
          "base_uri": "https://localhost:8080/"
        },
        "id": "Vexx7RgeGcsj",
        "outputId": "4453ad78-d6b9-4ced-e60a-c77f66929b12"
      },
      "source": [
        "# Read in data from S3 Bucket\n",
        "from pyspark import SparkFiles\n",
        "url=\"https://s3.amazonaws.com/amazon-reviews-pds/tsv/amazon_reviews_us_Electronics_v1_00.tsv.gz\"\n",
        "spark.sparkContext.addFile(url)\n",
        "electronics_df = spark.read.csv(SparkFiles.get(\"amazon_reviews_us_Electronics_v1_00.tsv.gz\"), sep=\"\\t\", header=True, inferSchema=True)\n",
        "\n",
        "# Show DataFrame\n",
        "electronics_df.show()"
      ],
      "execution_count": 3,
      "outputs": [
        {
          "output_type": "stream",
          "name": "stdout",
          "text": [
            "+-----------+-----------+--------------+----------+--------------+--------------------+----------------+-----------+-------------+-----------+----+-----------------+--------------------+--------------------+-----------+\n",
            "|marketplace|customer_id|     review_id|product_id|product_parent|       product_title|product_category|star_rating|helpful_votes|total_votes|vine|verified_purchase|     review_headline|         review_body|review_date|\n",
            "+-----------+-----------+--------------+----------+--------------+--------------------+----------------+-----------+-------------+-----------+----+-----------------+--------------------+--------------------+-----------+\n",
            "|         US|   41409413|R2MTG1GCZLR2DK|B00428R89M|     112201306|yoomall 5M Antenn...|     Electronics|          5|            0|          0|   N|                Y|          Five Stars|       As described.| 2015-08-31|\n",
            "|         US|   49668221|R2HBOEM8LE9928|B000068O48|     734576678|Hosa GPM-103 3.5m...|     Electronics|          5|            0|          0|   N|                Y|It works as adver...|It works as adver...| 2015-08-31|\n",
            "|         US|   12338275|R1P4RW1R9FDPEE|B000GGKOG8|     614448099|Channel Master Ti...|     Electronics|          5|            1|          1|   N|                Y|          Five Stars|         Works pissa| 2015-08-31|\n",
            "|         US|   38487968|R1EBPM82ENI67M|B000NU4OTA|      72265257|LIMTECH Wall char...|     Electronics|          1|            0|          0|   N|                Y|            One Star|Did not work at all.| 2015-08-31|\n",
            "|         US|   23732619|R372S58V6D11AT|B00JOQIO6S|     308169188|Skullcandy Air Ra...|     Electronics|          5|            1|          1|   N|                Y|Overall pleased w...|Works well. Bass ...| 2015-08-31|\n",
            "|         US|   21257820|R1A4514XOYI1PD|B008NCD2LG|     976385982|Pioneer SP-BS22-L...|     Electronics|          5|            1|          1|   N|                Y|          Five Stars|The quality on th...| 2015-08-31|\n",
            "|         US|    3084991|R20D9EHB7N20V6|B00007FGUF|     670878953|C2G/Cables to Go ...|     Electronics|          5|            0|          0|   N|                Y|           Lifesaver|Wish I could give...| 2015-08-31|\n",
            "|         US|    8153674|R1WUTD8MVSROJU|B00M9V2RMM|     508452933|COOLEAD-HDMI Swit...|     Electronics|          5|            0|          0|   N|                Y|          Five Stars|         works great| 2015-08-31|\n",
            "|         US|   52246189|R1QCYLT25812DM|B00J3O9DYI|     766372886|Philips Wireless ...|     Electronics|          4|            0|          0|   N|                Y|          Four Stars|Great sound and c...| 2015-08-31|\n",
            "|         US|   41463864| R904DQPBCEM7A|B00NS1A0E4|     458130381|PlayStation 3 3D ...|     Electronics|          4|            0|          0|   N|                Y|          Four Stars|    It works well~~~| 2015-08-31|\n",
            "|         US|    2781942|R1DGA6UQIVLKZ7|B007B5V092|     152891509|JVC HAFR201A Xtre...|     Electronics|          5|            0|          0|   N|                Y|          Five Stars|           Alll good| 2015-08-31|\n",
            "|         US|     707292| RLQT3V8SMNIBH|B00IODHGVG|     717335277|Sylvania Alarm Cl...|     Electronics|          5|            0|          0|   N|                Y|          Five Stars|Love clock radio ...| 2015-08-31|\n",
            "|         US|   31463514|R3T9GZS2TMXZGM|B0035PBHX6|     249533961|Coby 8 GB 1.8-Inc...|     Electronics|          1|            0|          0|   N|                Y|            One Star|Breaks very easil...| 2015-08-31|\n",
            "|         US|   33475055|R24HVAEYP5PLDN|B00K1JJWFO|     635791633|Diamond (Original...|     Electronics|          5|            0|          1|   N|                Y|          Five Stars|Excellent gain in...| 2015-08-31|\n",
            "|         US|   16543871|R32KMAPNV5NJPJ|B00S3LJ5EA|     659360184|Kingvom 8gb 50 Ho...|     Electronics|          5|            0|          0|   N|                Y|          Five Stars|everything I expe...| 2015-08-31|\n",
            "|         US|   38472651| RC7VLPHUT6UAF|B00B5QNGN6|     564421014|JBL Ultra-Portabl...|     Electronics|          5|            0|          0|   N|                Y|          Five Stars|Love this small s...| 2015-08-31|\n",
            "|         US|   26946211|R3G1II8P4KGUAR|B00PLE8QF6|     685446417|YIPBOWPT Surface ...|     Electronics|          5|            0|          0|   N|                Y|       great product|works as advertis...| 2015-08-31|\n",
            "|         US|   10195727|R1UBFCBUALL6S5|B00GHUSIU6|     595255086|StarTech.com Mini...|     Electronics|          5|            0|          0|   N|                Y|          Five Stars|very good especia...| 2015-08-31|\n",
            "|         US|   47386264|R1WI5NISM6GAUG|B0045EJY90|     892920832|TEAC CD-P650-B Co...|     Electronics|          2|            4|          5|   N|                Y|It does not copy ...|It does not copy ...| 2015-08-31|\n",
            "|         US|   13000908|R27F4OF4BIA4LU|B003BT6BM8|     631236454|Philips SHS8100/2...|     Electronics|          2|            1|          1|   N|                Y|Did not last long...|Did not last long...| 2015-08-31|\n",
            "+-----------+-----------+--------------+----------+--------------+--------------------+----------------+-----------+-------------+-----------+----+-----------------+--------------------+--------------------+-----------+\n",
            "only showing top 20 rows\n",
            "\n"
          ]
        }
      ]
    },
    {
      "cell_type": "code",
      "metadata": {
        "colab": {
          "base_uri": "https://localhost:8080/"
        },
        "id": "sTxjGCPEHKWY",
        "outputId": "f0edcfd6-6525-4db2-a6e4-f24b0104cf56"
      },
      "source": [
        "vine_df = electronics_df.select([\"review_id\", \"star_rating\", \"helpful_votes\", \"total_votes\", \"vine\"])\n",
        "vine_df = vine_df.drop_duplicates([\"review_id\"])\n",
        "vine_df = vine_df.dropna()\n",
        "vine_df.show(5)"
      ],
      "execution_count": 5,
      "outputs": [
        {
          "output_type": "stream",
          "name": "stdout",
          "text": [
            "+--------------+-----------+-------------+-----------+----+\n",
            "|     review_id|star_rating|helpful_votes|total_votes|vine|\n",
            "+--------------+-----------+-------------+-----------+----+\n",
            "|R10000WMGXS51T|          5|            1|          1|   N|\n",
            "|R10003OLR2P5UE|          3|            0|          0|   N|\n",
            "|R10005O193PJ6W|          3|            2|          2|   N|\n",
            "|R10008LR7CU84N|          1|            2|          4|   N|\n",
            "|R10009JN2UWOJC|          5|            0|          0|   N|\n",
            "+--------------+-----------+-------------+-----------+----+\n",
            "only showing top 5 rows\n",
            "\n"
          ]
        }
      ]
    },
    {
      "cell_type": "code",
      "metadata": {
        "colab": {
          "base_uri": "https://localhost:8080/"
        },
        "id": "-1FeswplQAiD",
        "outputId": "aea2b385-1cdf-4d05-f8e6-1b5f13948018"
      },
      "source": [
        "# Number of total reviews\n",
        "total_reviews = vine_df.count()\n",
        "total_reviews"
      ],
      "execution_count": 42,
      "outputs": [
        {
          "output_type": "execute_result",
          "data": {
            "text/plain": [
              "3093861"
            ]
          },
          "metadata": {},
          "execution_count": 42
        }
      ]
    },
    {
      "cell_type": "markdown",
      "metadata": {
        "id": "g--uCSC5boua"
      },
      "source": [
        "## Paid Reviews (part of Vine program)"
      ]
    },
    {
      "cell_type": "code",
      "metadata": {
        "id": "zg4jioXcHX7S",
        "colab": {
          "base_uri": "https://localhost:8080/"
        },
        "outputId": "1cce55c8-237e-403f-df34-584c391b34cb"
      },
      "source": [
        "# Reviews were written as part of the Vine program (people received some sort of payment for writing the reviews)\n",
        "paid_reviews = vine_df.filter(vine_df['vine'] == \"Y\")\n",
        "paid_reviews.show(5)"
      ],
      "execution_count": 22,
      "outputs": [
        {
          "output_type": "stream",
          "name": "stdout",
          "text": [
            "+--------------+-----------+-------------+-----------+----+\n",
            "|     review_id|star_rating|helpful_votes|total_votes|vine|\n",
            "+--------------+-----------+-------------+-----------+----+\n",
            "|R1009ULIBH7XJ7|          3|            0|          0|   Y|\n",
            "|R1017GXIYICPPZ|          5|            3|          3|   Y|\n",
            "|R1017MTXDRZ89M|          5|            3|          4|   Y|\n",
            "|R102O6JM0AG213|          5|            7|          7|   Y|\n",
            "|R1032U1ID9BC0K|          3|            0|          1|   Y|\n",
            "+--------------+-----------+-------------+-----------+----+\n",
            "only showing top 5 rows\n",
            "\n"
          ]
        }
      ]
    },
    {
      "cell_type": "code",
      "metadata": {
        "colab": {
          "base_uri": "https://localhost:8080/"
        },
        "id": "WqcLzb9zfTVq",
        "outputId": "2ea75403-2a73-45e0-8cfc-ca034df481dd"
      },
      "source": [
        "# Summary Statistics \n",
        "paid_reviews.describe().show()"
      ],
      "execution_count": 23,
      "outputs": [
        {
          "output_type": "stream",
          "name": "stdout",
          "text": [
            "+-------+--------------+------------------+------------------+-----------------+-----+\n",
            "|summary|     review_id|       star_rating|     helpful_votes|      total_votes| vine|\n",
            "+-------+--------------+------------------+------------------+-----------------+-----+\n",
            "|  count|         18512|             18512|             18512|            18512|18512|\n",
            "|   mean|          null|  4.13504753673293| 5.824654278305964|7.212564822817632| null|\n",
            "| stddev|          null|0.9629397942126239|37.449657439000525|40.05881133654962| null|\n",
            "|    min|R1009ULIBH7XJ7|                 1|                 0|                0|    Y|\n",
            "|    max| RZZQWDXNY2SQA|                 5|              2561|             2688|    Y|\n",
            "+-------+--------------+------------------+------------------+-----------------+-----+\n",
            "\n"
          ]
        }
      ]
    },
    {
      "cell_type": "code",
      "metadata": {
        "colab": {
          "base_uri": "https://localhost:8080/"
        },
        "id": "XmPKRV8aZPu8",
        "outputId": "2ed0467d-34f1-49f9-fc01-5ce0070099cb"
      },
      "source": [
        "# Number of reviews as a part of Vine program \n",
        "paidrev_total = paid_reviews.count()\n",
        "paidrev_total"
      ],
      "execution_count": 24,
      "outputs": [
        {
          "output_type": "execute_result",
          "data": {
            "text/plain": [
              "18512"
            ]
          },
          "metadata": {},
          "execution_count": 24
        }
      ]
    },
    {
      "cell_type": "code",
      "metadata": {
        "colab": {
          "base_uri": "https://localhost:8080/"
        },
        "id": "3iNVdJIjQX7K",
        "outputId": "274aab6e-dd2d-45eb-bdbb-961b2b67e4e0"
      },
      "source": [
        "# Percentage of paid reviews\n",
        "percent_paidrev = (paidrev_total / total_reviews) * 100\n",
        "percent_paidrev"
      ],
      "execution_count": 44,
      "outputs": [
        {
          "output_type": "execute_result",
          "data": {
            "text/plain": [
              "0.5983462088309721"
            ]
          },
          "metadata": {},
          "execution_count": 44
        }
      ]
    },
    {
      "cell_type": "code",
      "metadata": {
        "colab": {
          "base_uri": "https://localhost:8080/"
        },
        "id": "bsnNUNTIcE4p",
        "outputId": "bd69d275-1a68-43cf-a56f-985f3181ade3"
      },
      "source": [
        "# Get all 5-star reviews (part of Vine)\n",
        "FiveStar_paidrev_total = paid_reviews.filter(paid_reviews[\"star_rating\"] == 5).count()\n",
        "FiveStar_paidrev_total"
      ],
      "execution_count": 25,
      "outputs": [
        {
          "output_type": "execute_result",
          "data": {
            "text/plain": [
              "8044"
            ]
          },
          "metadata": {},
          "execution_count": 25
        }
      ]
    },
    {
      "cell_type": "code",
      "metadata": {
        "colab": {
          "base_uri": "https://localhost:8080/"
        },
        "id": "_aHXxRIbwwFG",
        "outputId": "0462c3b4-58ac-4d0c-f968-d1121c737fd8"
      },
      "source": [
        "# Percentage of 5-star paid reviews\n",
        "FiveStar_percent = (FiveStar_paidrev_total / paidrev_total) * 100\n",
        "FiveStar_percent"
      ],
      "execution_count": 26,
      "outputs": [
        {
          "output_type": "execute_result",
          "data": {
            "text/plain": [
              "43.452895419187556"
            ]
          },
          "metadata": {},
          "execution_count": 26
        }
      ]
    },
    {
      "cell_type": "code",
      "metadata": {
        "colab": {
          "base_uri": "https://localhost:8080/"
        },
        "id": "qGGBKb-67AM4",
        "outputId": "41a69257-afff-4f53-c512-60d035ccabb1"
      },
      "source": [
        "# Get all 1-star reviews (part of Vine)\n",
        "OneStar_paidrev_total = paid_reviews.filter(paid_reviews[\"star_rating\"] == 1).count()\n",
        "OneStar_paidrev_total\n"
      ],
      "execution_count": 27,
      "outputs": [
        {
          "output_type": "execute_result",
          "data": {
            "text/plain": [
              "342"
            ]
          },
          "metadata": {},
          "execution_count": 27
        }
      ]
    },
    {
      "cell_type": "code",
      "metadata": {
        "colab": {
          "base_uri": "https://localhost:8080/"
        },
        "id": "ST_vsNSE7Ilv",
        "outputId": "dfd000e0-a283-42af-f9f6-cbb9b7ab385e"
      },
      "source": [
        "# Percentage of 1-star paid reviews\n",
        "OneStar_percent = (OneStar_paidrev_total / paidrev_total) * 100\n",
        "OneStar_percent"
      ],
      "execution_count": 28,
      "outputs": [
        {
          "output_type": "execute_result",
          "data": {
            "text/plain": [
              "1.8474503025064821"
            ]
          },
          "metadata": {},
          "execution_count": 28
        }
      ]
    },
    {
      "cell_type": "code",
      "metadata": {
        "colab": {
          "base_uri": "https://localhost:8080/"
        },
        "id": "TKAz0h42fTgZ",
        "outputId": "3e4cae2a-3f52-4601-e9ec-6d3f127860de"
      },
      "source": [
        "from pyspark.sql.functions import desc\n",
        "\n",
        "avg_ratings_vine =paid_reviews.select([\"star_rating\", \"helpful_votes\"])\\\n",
        "  .groupby(\"helpful_votes\").agg({\"star_rating\": \"avg\", \"helpful_votes\":\"count\"})\\\n",
        "  .orderBy(desc(\"count(helpful_votes)\"))\n",
        "\n",
        "avg_ratings_vine.show(truncate=False)"
      ],
      "execution_count": 29,
      "outputs": [
        {
          "output_type": "stream",
          "name": "stdout",
          "text": [
            "+-------------+------------------+--------------------+\n",
            "|helpful_votes|avg(star_rating)  |count(helpful_votes)|\n",
            "+-------------+------------------+--------------------+\n",
            "|0            |4.142897130860741 |7145                |\n",
            "|1            |4.138399597382989 |3974                |\n",
            "|2            |4.127016129032258 |1984                |\n",
            "|3            |4.135254988913526 |1353                |\n",
            "|4            |4.158551810237204 |801                 |\n",
            "|5            |4.09126213592233  |515                 |\n",
            "|6            |4.144702842377261 |387                 |\n",
            "|7            |4.207843137254902 |255                 |\n",
            "|8            |4.0424528301886795|212                 |\n",
            "|9            |4.034285714285715 |175                 |\n",
            "|11           |4.08              |125                 |\n",
            "|10           |4.040650406504065 |123                 |\n",
            "|12           |4.177570093457944 |107                 |\n",
            "|13           |4.032967032967033 |91                  |\n",
            "|14           |4.141025641025641 |78                  |\n",
            "|15           |4.202702702702703 |74                  |\n",
            "|16           |4.25              |56                  |\n",
            "|17           |4.0212765957446805|47                  |\n",
            "|19           |4.260869565217392 |46                  |\n",
            "|18           |4.05              |40                  |\n",
            "+-------------+------------------+--------------------+\n",
            "only showing top 20 rows\n",
            "\n"
          ]
        }
      ]
    },
    {
      "cell_type": "code",
      "metadata": {
        "colab": {
          "base_uri": "https://localhost:8080/"
        },
        "id": "6oN_Dosr5vYZ",
        "outputId": "6c3da7c2-5188-419e-e446-45aa5b614def"
      },
      "source": [
        "# Number of Helpfuls Votes with at least 1 vote\n",
        "heplful_votes_paid = paid_reviews.filter(paid_reviews['helpful_votes'] >= 1).count()\n",
        "heplful_votes_paid"
      ],
      "execution_count": 20,
      "outputs": [
        {
          "output_type": "execute_result",
          "data": {
            "text/plain": [
              "11367"
            ]
          },
          "metadata": {},
          "execution_count": 20
        }
      ]
    },
    {
      "cell_type": "code",
      "metadata": {
        "colab": {
          "base_uri": "https://localhost:8080/"
        },
        "id": "1v20LOEQ2Oog",
        "outputId": "7e95247f-e472-4a84-df73-bbad759517e5"
      },
      "source": [
        "# Percentage of Helpfuls Votes with at least 1 vote\n",
        "heplful_percent_paidv = (heplful_votes_paid / paidrev_total) * 100\n",
        "heplful_percent_paidv"
      ],
      "execution_count": 30,
      "outputs": [
        {
          "output_type": "execute_result",
          "data": {
            "text/plain": [
              "61.403414001728606"
            ]
          },
          "metadata": {},
          "execution_count": 30
        }
      ]
    },
    {
      "cell_type": "markdown",
      "metadata": {
        "id": "Wy8Db4hQb1R8"
      },
      "source": [
        "## Unpaid Reviews (not part of Vine program)"
      ]
    },
    {
      "cell_type": "code",
      "metadata": {
        "colab": {
          "base_uri": "https://localhost:8080/"
        },
        "id": "UdYrRY-CW61U",
        "outputId": "affb4324-2cef-45b2-fdb7-a59988caa51b"
      },
      "source": [
        "# Reviews were writen not related to Vine Program (these people haven't received payment or free products for writing reviews)\n",
        "unpaid_reviews = vine_df.filter(vine_df['vine'] == \"N\")\n",
        "unpaid_reviews.show(5)"
      ],
      "execution_count": 15,
      "outputs": [
        {
          "output_type": "stream",
          "name": "stdout",
          "text": [
            "+--------------+-----------+-------------+-----------+----+\n",
            "|     review_id|star_rating|helpful_votes|total_votes|vine|\n",
            "+--------------+-----------+-------------+-----------+----+\n",
            "|R10000WMGXS51T|          5|            1|          1|   N|\n",
            "|R10003OLR2P5UE|          3|            0|          0|   N|\n",
            "|R10005O193PJ6W|          3|            2|          2|   N|\n",
            "|R10008LR7CU84N|          1|            2|          4|   N|\n",
            "|R10009JN2UWOJC|          5|            0|          0|   N|\n",
            "+--------------+-----------+-------------+-----------+----+\n",
            "only showing top 5 rows\n",
            "\n"
          ]
        }
      ]
    },
    {
      "cell_type": "code",
      "metadata": {
        "colab": {
          "base_uri": "https://localhost:8080/"
        },
        "id": "tlqcqSQ7aUZz",
        "outputId": "4c66bd80-7c63-499a-a06b-6239fe239406"
      },
      "source": [
        "# Summary Statistics \n",
        "unpaid_reviews.describe().show()"
      ],
      "execution_count": 35,
      "outputs": [
        {
          "output_type": "stream",
          "name": "stdout",
          "text": [
            "+-------+--------------+-----------------+------------------+------------------+-------+\n",
            "|summary|     review_id|      star_rating|     helpful_votes|       total_votes|   vine|\n",
            "+-------+--------------+-----------------+------------------+------------------+-------+\n",
            "|  count|       3075349|          3075349|           3075349|           3075349|3075349|\n",
            "|   mean|          null|4.034907257680348|1.8358947228428384|2.3419426543133803|   null|\n",
            "| stddev|          null|1.389579414886884|21.191344994625712| 22.33640449765777|   null|\n",
            "|    min|R10000WMGXS51T|                1|                 0|                 0|      N|\n",
            "|    max| RZZZVZAZKMT9J|                5|             12786|             12944|      N|\n",
            "+-------+--------------+-----------------+------------------+------------------+-------+\n",
            "\n"
          ]
        }
      ]
    },
    {
      "cell_type": "code",
      "metadata": {
        "colab": {
          "base_uri": "https://localhost:8080/"
        },
        "id": "OX49ObsVZEEh",
        "outputId": "8e838b4a-d955-4437-c2dc-abf37b208b49"
      },
      "source": [
        "# Number of reviews which aren't part of Vine program\n",
        "unpaidrev_total = unpaid_reviews.count()\n",
        "unpaidrev_total"
      ],
      "execution_count": 36,
      "outputs": [
        {
          "output_type": "execute_result",
          "data": {
            "text/plain": [
              "3075349"
            ]
          },
          "metadata": {},
          "execution_count": 36
        }
      ]
    },
    {
      "cell_type": "code",
      "metadata": {
        "colab": {
          "base_uri": "https://localhost:8080/"
        },
        "id": "fB5O3DYtREYx",
        "outputId": "2d2935af-2de1-4bf5-d62a-7593bb16e68e"
      },
      "source": [
        "# Percentage of paid reviews\n",
        "percent_unpaidrev = (unpaidrev_total / total_reviews) * 100\n",
        "percent_unpaidrev"
      ],
      "execution_count": 45,
      "outputs": [
        {
          "output_type": "execute_result",
          "data": {
            "text/plain": [
              "99.40165379116902"
            ]
          },
          "metadata": {},
          "execution_count": 45
        }
      ]
    },
    {
      "cell_type": "code",
      "metadata": {
        "colab": {
          "base_uri": "https://localhost:8080/"
        },
        "id": "josh_GNoaUSI",
        "outputId": "80d97581-ae18-42ae-850c-18e7f965f3a5"
      },
      "source": [
        "# Get all 5-star reviews (not part of Vine)\n",
        "FiveStar_unpaidrev_total = unpaid_reviews.filter(unpaid_reviews[\"star_rating\"] == 5).count()\n",
        "FiveStar_unpaidrev_total"
      ],
      "execution_count": 37,
      "outputs": [
        {
          "output_type": "execute_result",
          "data": {
            "text/plain": [
              "1773112"
            ]
          },
          "metadata": {},
          "execution_count": 37
        }
      ]
    },
    {
      "cell_type": "code",
      "metadata": {
        "colab": {
          "base_uri": "https://localhost:8080/"
        },
        "id": "Jg3ExKklBIG1",
        "outputId": "80a7bdec-e332-4ad4-b4ff-3c5634cb6d6c"
      },
      "source": [
        "# Percentage of 5-star unpaid reviews\n",
        "FiveStar_nonvine_percent = (FiveStar_unpaidrev_total / unpaidrev_total) * 100\n",
        "FiveStar_nonvine_percent"
      ],
      "execution_count": 38,
      "outputs": [
        {
          "output_type": "execute_result",
          "data": {
            "text/plain": [
              "57.65563518156801"
            ]
          },
          "metadata": {},
          "execution_count": 38
        }
      ]
    },
    {
      "cell_type": "code",
      "metadata": {
        "colab": {
          "base_uri": "https://localhost:8080/"
        },
        "id": "ilxohRfOaUWZ",
        "outputId": "3599811c-19d7-4b98-ab13-1110fd71ac4d"
      },
      "source": [
        "# Get all 1-star reviews (part of Vine)\n",
        "OneStar_unpaidrev_total = unpaid_reviews.filter(unpaid_reviews[\"star_rating\"] == 1).count()\n",
        "OneStar_unpaidrev_total\n"
      ],
      "execution_count": 39,
      "outputs": [
        {
          "output_type": "execute_result",
          "data": {
            "text/plain": [
              "357777"
            ]
          },
          "metadata": {},
          "execution_count": 39
        }
      ]
    },
    {
      "cell_type": "code",
      "metadata": {
        "colab": {
          "base_uri": "https://localhost:8080/"
        },
        "id": "w1eTlAe1BvhL",
        "outputId": "40af5bec-e8af-4905-f78b-5e881f7855e6"
      },
      "source": [
        "# Percentage of 1-star paid reviews\n",
        "OneStar_nonvine_percent = (OneStar_unpaidrev_total / unpaidrev_total) * 100\n",
        "OneStar_nonvine_percent"
      ],
      "execution_count": 40,
      "outputs": [
        {
          "output_type": "execute_result",
          "data": {
            "text/plain": [
              "11.633704012130005"
            ]
          },
          "metadata": {},
          "execution_count": 40
        }
      ]
    },
    {
      "cell_type": "code",
      "metadata": {
        "colab": {
          "base_uri": "https://localhost:8080/",
          "height": 488
        },
        "id": "EDUv4KicaUc-",
        "outputId": "2eb64b5b-7239-47a8-ddaf-5a52425c5303"
      },
      "source": [
        "avg_ratings_nonvine = unpaid_reviews.select([\"star_rating\", \"helpful_votes\"])\\\n",
        "  .groupby(\"helpful_votes\").agg({\"star_rating\": \"avg\", \"helpful_votes\":\"count\"})\\\n",
        "  .orderBy(desc(\"avg(star_votes)\"))\n",
        "\n",
        "avg_ratings_nonvine.show(truncate=False)"
      ],
      "execution_count": 34,
      "outputs": [
        {
          "output_type": "error",
          "ename": "AnalysisException",
          "evalue": "ignored",
          "traceback": [
            "\u001b[0;31m---------------------------------------------------------------------------\u001b[0m",
            "\u001b[0;31mAnalysisException\u001b[0m                         Traceback (most recent call last)",
            "\u001b[0;32m<ipython-input-34-2f38249ff5b3>\u001b[0m in \u001b[0;36m<module>\u001b[0;34m()\u001b[0m\n\u001b[0;32m----> 1\u001b[0;31m \u001b[0mavg_ratings_nonvine\u001b[0m \u001b[0;34m=\u001b[0m \u001b[0munpaid_reviews\u001b[0m\u001b[0;34m.\u001b[0m\u001b[0mselect\u001b[0m\u001b[0;34m(\u001b[0m\u001b[0;34m[\u001b[0m\u001b[0;34m\"star_rating\"\u001b[0m\u001b[0;34m,\u001b[0m \u001b[0;34m\"helpful_votes\"\u001b[0m\u001b[0;34m]\u001b[0m\u001b[0;34m)\u001b[0m  \u001b[0;34m.\u001b[0m\u001b[0mgroupby\u001b[0m\u001b[0;34m(\u001b[0m\u001b[0;34m\"helpful_votes\"\u001b[0m\u001b[0;34m)\u001b[0m\u001b[0;34m.\u001b[0m\u001b[0magg\u001b[0m\u001b[0;34m(\u001b[0m\u001b[0;34m{\u001b[0m\u001b[0;34m\"star_rating\"\u001b[0m\u001b[0;34m:\u001b[0m \u001b[0;34m\"avg\"\u001b[0m\u001b[0;34m,\u001b[0m \u001b[0;34m\"helpful_votes\"\u001b[0m\u001b[0;34m:\u001b[0m\u001b[0;34m\"count\"\u001b[0m\u001b[0;34m}\u001b[0m\u001b[0;34m)\u001b[0m  \u001b[0;34m.\u001b[0m\u001b[0morderBy\u001b[0m\u001b[0;34m(\u001b[0m\u001b[0mdesc\u001b[0m\u001b[0;34m(\u001b[0m\u001b[0;34m\"avg(star_votes)\"\u001b[0m\u001b[0;34m)\u001b[0m\u001b[0;34m)\u001b[0m\u001b[0;34m\u001b[0m\u001b[0;34m\u001b[0m\u001b[0m\n\u001b[0m\u001b[1;32m      2\u001b[0m \u001b[0;34m\u001b[0m\u001b[0m\n\u001b[1;32m      3\u001b[0m \u001b[0mavg_ratings_nonvine\u001b[0m\u001b[0;34m.\u001b[0m\u001b[0mshow\u001b[0m\u001b[0;34m(\u001b[0m\u001b[0mtruncate\u001b[0m\u001b[0;34m=\u001b[0m\u001b[0;32mFalse\u001b[0m\u001b[0;34m)\u001b[0m\u001b[0;34m\u001b[0m\u001b[0;34m\u001b[0m\u001b[0m\n",
            "\u001b[0;32m/content/spark-3.2.0-bin-hadoop2.7/python/pyspark/sql/dataframe.py\u001b[0m in \u001b[0;36msort\u001b[0;34m(self, *cols, **kwargs)\u001b[0m\n\u001b[1;32m   1419\u001b[0m         \u001b[0;34m[\u001b[0m\u001b[0mRow\u001b[0m\u001b[0;34m(\u001b[0m\u001b[0mage\u001b[0m\u001b[0;34m=\u001b[0m\u001b[0;36m5\u001b[0m\u001b[0;34m,\u001b[0m \u001b[0mname\u001b[0m\u001b[0;34m=\u001b[0m\u001b[0;34m'Bob'\u001b[0m\u001b[0;34m)\u001b[0m\u001b[0;34m,\u001b[0m \u001b[0mRow\u001b[0m\u001b[0;34m(\u001b[0m\u001b[0mage\u001b[0m\u001b[0;34m=\u001b[0m\u001b[0;36m2\u001b[0m\u001b[0;34m,\u001b[0m \u001b[0mname\u001b[0m\u001b[0;34m=\u001b[0m\u001b[0;34m'Alice'\u001b[0m\u001b[0;34m)\u001b[0m\u001b[0;34m]\u001b[0m\u001b[0;34m\u001b[0m\u001b[0;34m\u001b[0m\u001b[0m\n\u001b[1;32m   1420\u001b[0m         \"\"\"\n\u001b[0;32m-> 1421\u001b[0;31m         \u001b[0mjdf\u001b[0m \u001b[0;34m=\u001b[0m \u001b[0mself\u001b[0m\u001b[0;34m.\u001b[0m\u001b[0m_jdf\u001b[0m\u001b[0;34m.\u001b[0m\u001b[0msort\u001b[0m\u001b[0;34m(\u001b[0m\u001b[0mself\u001b[0m\u001b[0;34m.\u001b[0m\u001b[0m_sort_cols\u001b[0m\u001b[0;34m(\u001b[0m\u001b[0mcols\u001b[0m\u001b[0;34m,\u001b[0m \u001b[0mkwargs\u001b[0m\u001b[0;34m)\u001b[0m\u001b[0;34m)\u001b[0m\u001b[0;34m\u001b[0m\u001b[0;34m\u001b[0m\u001b[0m\n\u001b[0m\u001b[1;32m   1422\u001b[0m         \u001b[0;32mreturn\u001b[0m \u001b[0mDataFrame\u001b[0m\u001b[0;34m(\u001b[0m\u001b[0mjdf\u001b[0m\u001b[0;34m,\u001b[0m \u001b[0mself\u001b[0m\u001b[0;34m.\u001b[0m\u001b[0msql_ctx\u001b[0m\u001b[0;34m)\u001b[0m\u001b[0;34m\u001b[0m\u001b[0;34m\u001b[0m\u001b[0m\n\u001b[1;32m   1423\u001b[0m \u001b[0;34m\u001b[0m\u001b[0m\n",
            "\u001b[0;32m/content/spark-3.2.0-bin-hadoop2.7/python/lib/py4j-0.10.9.2-src.zip/py4j/java_gateway.py\u001b[0m in \u001b[0;36m__call__\u001b[0;34m(self, *args)\u001b[0m\n\u001b[1;32m   1308\u001b[0m         \u001b[0manswer\u001b[0m \u001b[0;34m=\u001b[0m \u001b[0mself\u001b[0m\u001b[0;34m.\u001b[0m\u001b[0mgateway_client\u001b[0m\u001b[0;34m.\u001b[0m\u001b[0msend_command\u001b[0m\u001b[0;34m(\u001b[0m\u001b[0mcommand\u001b[0m\u001b[0;34m)\u001b[0m\u001b[0;34m\u001b[0m\u001b[0;34m\u001b[0m\u001b[0m\n\u001b[1;32m   1309\u001b[0m         return_value = get_return_value(\n\u001b[0;32m-> 1310\u001b[0;31m             answer, self.gateway_client, self.target_id, self.name)\n\u001b[0m\u001b[1;32m   1311\u001b[0m \u001b[0;34m\u001b[0m\u001b[0m\n\u001b[1;32m   1312\u001b[0m         \u001b[0;32mfor\u001b[0m \u001b[0mtemp_arg\u001b[0m \u001b[0;32min\u001b[0m \u001b[0mtemp_args\u001b[0m\u001b[0;34m:\u001b[0m\u001b[0;34m\u001b[0m\u001b[0;34m\u001b[0m\u001b[0m\n",
            "\u001b[0;32m/content/spark-3.2.0-bin-hadoop2.7/python/pyspark/sql/utils.py\u001b[0m in \u001b[0;36mdeco\u001b[0;34m(*a, **kw)\u001b[0m\n\u001b[1;32m    115\u001b[0m                 \u001b[0;31m# Hide where the exception came from that shows a non-Pythonic\u001b[0m\u001b[0;34m\u001b[0m\u001b[0;34m\u001b[0m\u001b[0;34m\u001b[0m\u001b[0m\n\u001b[1;32m    116\u001b[0m                 \u001b[0;31m# JVM exception message.\u001b[0m\u001b[0;34m\u001b[0m\u001b[0;34m\u001b[0m\u001b[0;34m\u001b[0m\u001b[0m\n\u001b[0;32m--> 117\u001b[0;31m                 \u001b[0;32mraise\u001b[0m \u001b[0mconverted\u001b[0m \u001b[0;32mfrom\u001b[0m \u001b[0;32mNone\u001b[0m\u001b[0;34m\u001b[0m\u001b[0;34m\u001b[0m\u001b[0m\n\u001b[0m\u001b[1;32m    118\u001b[0m             \u001b[0;32melse\u001b[0m\u001b[0;34m:\u001b[0m\u001b[0;34m\u001b[0m\u001b[0;34m\u001b[0m\u001b[0m\n\u001b[1;32m    119\u001b[0m                 \u001b[0;32mraise\u001b[0m\u001b[0;34m\u001b[0m\u001b[0;34m\u001b[0m\u001b[0m\n",
            "\u001b[0;31mAnalysisException\u001b[0m: cannot resolve '`avg(star_votes)`' given input columns: [avg(star_rating), count(helpful_votes), helpful_votes];\n'Sort ['avg(star_votes) DESC NULLS LAST], true\n+- Aggregate [helpful_votes#24], [helpful_votes#24, avg(star_rating#23) AS avg(star_rating)#3105, count(helpful_votes#24) AS count(helpful_votes)#3106L]\n   +- Project [star_rating#23, helpful_votes#24]\n      +- Filter (vine#26 = N)\n         +- Filter atleastnnonnulls(5, review_id#18, star_rating#23, helpful_votes#24, total_votes#25, vine#26)\n            +- Deduplicate [review_id#18]\n               +- Project [review_id#18, star_rating#23, helpful_votes#24, total_votes#25, vine#26]\n                  +- Relation [marketplace#16,customer_id#17,review_id#18,product_id#19,product_parent#20,product_title#21,product_category#22,star_rating#23,helpful_votes#24,total_votes#25,vine#26,verified_purchase#27,review_headline#28,review_body#29,review_date#30] csv\n"
          ]
        }
      ]
    },
    {
      "cell_type": "code",
      "metadata": {
        "colab": {
          "base_uri": "https://localhost:8080/"
        },
        "id": "zT4KfM0v6sdm",
        "outputId": "d1471db5-5bdd-4d02-ae7f-e06fb937edd0"
      },
      "source": [
        "# Number of Helpfuls Votes with at least 1 vote\n",
        "heplful_votes_unpaid = unpaid_reviews.filter(unpaid_reviews['helpful_votes'] >= 1).count()\n",
        "heplful_votes_unpaid "
      ],
      "execution_count": 21,
      "outputs": [
        {
          "output_type": "execute_result",
          "data": {
            "text/plain": [
              "991372"
            ]
          },
          "metadata": {},
          "execution_count": 21
        }
      ]
    },
    {
      "cell_type": "code",
      "metadata": {
        "colab": {
          "base_uri": "https://localhost:8080/"
        },
        "id": "VFVqtslJaUhA",
        "outputId": "4ed7cd7b-5388-419a-94d3-383507aa9b6f"
      },
      "source": [
        "# Percentage of Helpfuls Votes with at least 1 vote\n",
        "heplful_percent_unpaidv = (heplful_votes_unpaid / unpaidrev_total) * 100\n",
        "heplful_percent_unpaidv"
      ],
      "execution_count": 33,
      "outputs": [
        {
          "output_type": "execute_result",
          "data": {
            "text/plain": [
              "32.2360811732262"
            ]
          },
          "metadata": {},
          "execution_count": 33
        }
      ]
    }
  ]
}