{
  "nbformat": 4,
  "nbformat_minor": 0,
  "metadata": {
    "colab": {
      "name": "Vine_Kitchen_ReviewsAnalysis.ipynb",
      "provenance": []
    },
    "kernelspec": {
      "name": "python3",
      "display_name": "Python 3"
    },
    "language_info": {
      "name": "python"
    }
  },
  "cells": [
    {
      "cell_type": "code",
      "metadata": {
        "colab": {
          "base_uri": "https://localhost:8080/"
        },
        "id": "l0F4Lmd8LNig",
        "outputId": "c8b6446d-dfc9-49ff-9a95-79f500989683"
      },
      "source": [
        "import os\n",
        "\n",
        "# spark_version\n",
        "spark_version = 'spark-3.2.0'\n",
        "os.environ['SPARK_VERSION']=spark_version\n",
        "\n",
        "# Install Spark and Java\n",
        "!apt-get update\n",
        "!apt-get install openjdk-8-jdk-headless -qq > /dev/null\n",
        "!wget -q http://www.apache.org/dist/spark/$SPARK_VERSION/$SPARK_VERSION-bin-hadoop2.7.tgz\n",
        "!tar xf $SPARK_VERSION-bin-hadoop2.7.tgz\n",
        "!pip install -q findspark\n",
        "\n",
        "# Set Environment Variables\n",
        "os.environ[\"JAVA_HOME\"] = \"/usr/lib/jvm/java-8-openjdk-amd64\"\n",
        "os.environ[\"SPARK_HOME\"] = f\"/content/{spark_version}-bin-hadoop2.7\"\n",
        "\n",
        "# Start a SparkSession\n",
        "import findspark\n",
        "findspark.init()"
      ],
      "execution_count": 1,
      "outputs": [
        {
          "output_type": "stream",
          "name": "stdout",
          "text": [
            "\r0% [Working]\r            \rHit:1 https://cloud.r-project.org/bin/linux/ubuntu bionic-cran40/ InRelease\n",
            "\r0% [Connecting to archive.ubuntu.com] [Connecting to security.ubuntu.com] [Conn\r                                                                               \rIgn:2 https://developer.download.nvidia.com/compute/cuda/repos/ubuntu1804/x86_64  InRelease\n",
            "\r0% [Connecting to archive.ubuntu.com (91.189.88.142)] [Connecting to security.u\r0% [1 InRelease gpgv 3,626 B] [Connecting to archive.ubuntu.com (91.189.88.142)\r                                                                               \rIgn:3 https://developer.download.nvidia.com/compute/machine-learning/repos/ubuntu1804/x86_64  InRelease\n",
            "\r0% [1 InRelease gpgv 3,626 B] [Connecting to archive.ubuntu.com (91.189.88.142)\r                                                                               \rHit:4 https://developer.download.nvidia.com/compute/cuda/repos/ubuntu1804/x86_64  Release\n",
            "Hit:5 https://developer.download.nvidia.com/compute/machine-learning/repos/ubuntu1804/x86_64  Release\n",
            "Hit:6 http://archive.ubuntu.com/ubuntu bionic InRelease\n",
            "Hit:7 http://ppa.launchpad.net/c2d4u.team/c2d4u4.0+/ubuntu bionic InRelease\n",
            "Get:8 http://security.ubuntu.com/ubuntu bionic-security InRelease [88.7 kB]\n",
            "Get:10 http://archive.ubuntu.com/ubuntu bionic-updates InRelease [88.7 kB]\n",
            "Hit:12 http://ppa.launchpad.net/cran/libgit2/ubuntu bionic InRelease\n",
            "Hit:13 http://ppa.launchpad.net/deadsnakes/ppa/ubuntu bionic InRelease\n",
            "Get:14 http://archive.ubuntu.com/ubuntu bionic-backports InRelease [74.6 kB]\n",
            "Hit:15 http://ppa.launchpad.net/graphics-drivers/ppa/ubuntu bionic InRelease\n",
            "Get:16 http://archive.ubuntu.com/ubuntu bionic-updates/main amd64 Packages [2,867 kB]\n",
            "Fetched 3,120 kB in 3s (1,196 kB/s)\n",
            "Reading package lists... Done\n"
          ]
        }
      ]
    },
    {
      "cell_type": "code",
      "metadata": {
        "id": "Q7d3PBP7LaLQ"
      },
      "source": [
        "from pyspark.sql import SparkSession\n",
        "spark = SparkSession.builder.appName(\"CloudVineAnalysis\").getOrCreate()"
      ],
      "execution_count": 2,
      "outputs": []
    },
    {
      "cell_type": "code",
      "metadata": {
        "colab": {
          "base_uri": "https://localhost:8080/"
        },
        "id": "eBUSRljwLbwM",
        "outputId": "f98397a0-f9da-47eb-e7d7-07847f0bc304"
      },
      "source": [
        "# Read in data from S3 Bucket\n",
        "from pyspark import SparkFiles\n",
        "url=\"https://s3.amazonaws.com/amazon-reviews-pds/tsv/amazon_reviews_us_Kitchen_v1_00.tsv.gz\"\n",
        "spark.sparkContext.addFile(url)\n",
        "kitchen_df = spark.read.csv(SparkFiles.get(\"amazon_reviews_us_Kitchen_v1_00.tsv.gz\"), sep=\"\\t\", header=True, inferSchema=True)\n",
        "\n",
        "# Show DataFrame\n",
        "kitchen_df.show()"
      ],
      "execution_count": 3,
      "outputs": [
        {
          "output_type": "stream",
          "name": "stdout",
          "text": [
            "+-----------+-----------+--------------+----------+--------------+--------------------+----------------+-----------+-------------+-----------+----+-----------------+--------------------+--------------------+-----------+\n",
            "|marketplace|customer_id|     review_id|product_id|product_parent|       product_title|product_category|star_rating|helpful_votes|total_votes|vine|verified_purchase|     review_headline|         review_body|review_date|\n",
            "+-----------+-----------+--------------+----------+--------------+--------------------+----------------+-----------+-------------+-----------+----+-----------------+--------------------+--------------------+-----------+\n",
            "|         US|   37000337|R3DT59XH7HXR9K|B00303FI0G|     529320574|Arthur Court Pape...|         Kitchen|          5|            0|          0|   N|                Y|Beautiful. Looks ...|Beautiful.  Looks...| 2015-08-31|\n",
            "|         US|   15272914|R1LFS11BNASSU8|B00JCZKZN6|     274237558|Olde Thompson Bav...|         Kitchen|          5|            0|          1|   N|                Y| Awesome & Self-ness|I personally have...| 2015-08-31|\n",
            "|         US|   36137863|R296RT05AG0AF6|B00JLIKA5C|     544675303|Progressive Inter...|         Kitchen|          5|            0|          0|   N|                Y|Fabulous and wort...|Fabulous and wort...| 2015-08-31|\n",
            "|         US|   43311049|R3V37XDZ7ZCI3L|B000GBNB8G|     491599489|Zyliss Jumbo Garl...|         Kitchen|          5|            0|          1|   N|                Y|          Five Stars|A must if you lov...| 2015-08-31|\n",
            "|         US|   13763148|R14GU232NQFYX2|B00VJ5KX9S|     353790155|1 X Premier Pizza...|         Kitchen|          5|            0|          0|   N|                Y|     Better than sex|Worth every penny...| 2015-08-31|\n",
            "|         US|   19009420| RZQH4V7L2O1PL|B00HYB5YY0|     432241873|       CHEF Aluminum|         Kitchen|          1|            1|          1|   N|                Y|Does not work on ...|The description s...| 2015-08-31|\n",
            "|         US|   40599388|R1F8JMOSPJ3KO7|B000HEBAV2|     584680984|Presto Dual Profr...|         Kitchen|          5|            0|          0|   N|                Y|Awesome! First fr...|Awesome! First fr...| 2015-08-31|\n",
            "|         US|   22719359|R1ZISGY2BWW4Z5|B0012DS4GG|     772637306|Rubbermaid Produc...|         Kitchen|          5|            0|          0|   N|                Y|          Five Stars|Very good item. Q...| 2015-08-31|\n",
            "|         US|   47478640|R17PW4I3AE5WZW|B00FLQ4EE6|     755416578|Cuisinart 12-Piec...|         Kitchen|          5|            0|          0|   N|                Y|          Five Stars|sharp and look great| 2015-08-31|\n",
            "|         US|   34195504|R3D93G1KTP6A8P|B00DBS9OTG|     648762742|Kegco 6\" Stainles...|         Kitchen|          3|            0|          0|   N|                Y|         Three Stars|Should have come ...| 2015-08-31|\n",
            "|         US|   19100570|R18TQIW1NKPUNU|B00AN9UJ68|     495720940|Cuisinart Smart S...|         Kitchen|          5|            0|          0|   N|                Y|          Five Stars|  my friend loves it| 2015-08-31|\n",
            "|         US|   10299811|R34KUNL21WU248|B00L2P0KNO|      41330497|Searzall Torch At...|         Kitchen|          4|            0|          0|   N|                Y|          Four Stars|works as expected...| 2015-08-31|\n",
            "|         US|   32687006|R2YA1ZA53X12IN|B00NQOJQXY|     191893454|Wilton 1512-1664 ...|         Kitchen|          5|            0|          0|   N|                Y|               great|               great| 2015-08-31|\n",
            "|         US|   43260893|R2ZD1IGC9UU55X|B00080QE1Q|     277442428|Magnalite Classic...|         Kitchen|          5|            1|          1|   N|                Y|         Great Pots!|Fantastic product...| 2015-08-31|\n",
            "|         US|    8067227| R9J2YMVZTUVZ7|B009VU17ZM|     414077276|Sun's Tea(TM) 20o...|         Kitchen|          5|            0|          0|   N|                Y|          Five Stars|Work great, well ...| 2015-08-31|\n",
            "|         US|   18139929|R2UUXJ0WQR0CNI|B00MY71KO2|     138697457|Adventure Time Be...|         Kitchen|          4|            0|          0|   N|                Y|              So big|holds a loooot of...| 2015-08-31|\n",
            "|         US|   12282702|R3S9QICITG73JZ|B00A6N18CK|      48180946|DecoBros 3 Tier D...|         Kitchen|          5|            0|          0|   N|                Y|It looks nice & n...|The DecoBros K cu...| 2015-08-31|\n",
            "|         US|   38649737|R3LISNJHS64PDA|B00AB8NOLS|      67759108|Brita Water Filte...|         Kitchen|          4|            0|          0|   N|                Y|          Four Stars| Met my expectations| 2015-08-31|\n",
            "|         US|   33460969|R28RB82UG4RDD5|B00FB4UPA0|      10711472|Nifty Home 24 K-C...|         Kitchen|          5|           20|         20|   N|                Y| Saves counter space|Fits under my ful...| 2015-08-31|\n",
            "|         US|   40274860|R3H0PRVII5991X|B00YMHBQ0A|     618617346|Eoonfirst Snoopy ...|         Kitchen|          5|            0|          0|   N|                Y|          Five Stars|            Love it!| 2015-08-31|\n",
            "+-----------+-----------+--------------+----------+--------------+--------------------+----------------+-----------+-------------+-----------+----+-----------------+--------------------+--------------------+-----------+\n",
            "only showing top 20 rows\n",
            "\n"
          ]
        }
      ]
    },
    {
      "cell_type": "code",
      "metadata": {
        "colab": {
          "base_uri": "https://localhost:8080/"
        },
        "id": "SQGDTRmMMtQE",
        "outputId": "cd5b3b2b-f9c1-46c0-8a09-83822dca291b"
      },
      "source": [
        "vine_df = kitchen_df.select([\"review_id\", \"star_rating\", \"helpful_votes\", \"total_votes\", \"vine\"])\n",
        "vine_df = vine_df.drop_duplicates([\"review_id\"])\n",
        "vine_df = vine_df.dropna()\n",
        "vine_df.show()"
      ],
      "execution_count": 4,
      "outputs": [
        {
          "output_type": "stream",
          "name": "stdout",
          "text": [
            "+--------------+-----------+-------------+-----------+----+\n",
            "|     review_id|star_rating|helpful_votes|total_votes|vine|\n",
            "+--------------+-----------+-------------+-----------+----+\n",
            "|R10002O5HSLMDW|          5|            0|          0|   N|\n",
            "|R100042H9DN6G5|          5|            0|          0|   N|\n",
            "|R100065LWA66A9|          4|            0|          1|   N|\n",
            "|R10006YK5ARTDT|          5|            0|          0|   N|\n",
            "|R100079NQX5FV0|          5|            0|          0|   N|\n",
            "|R10009BPC6YR2T|          4|            0|          0|   N|\n",
            "|R1000CEJZ30MZL|          5|            1|          2|   N|\n",
            "|R1000CK3G7C8XX|          5|            0|          0|   N|\n",
            "|R1000IX1RKMQ8T|          5|            0|          0|   N|\n",
            "|R1000JEOH5IPCA|          4|            0|          0|   N|\n",
            "|R1000L0JTNVOMK|          5|            0|          0|   N|\n",
            "|R1000MJ0FG0INR|          4|            0|          0|   N|\n",
            "|R1000OO0PP3MXV|          5|            0|          0|   N|\n",
            "|R1000OU7YF4TL6|          5|            0|          0|   N|\n",
            "|R1000Q6D5VN5JZ|          5|            0|          0|   N|\n",
            "|R1000QDIY1UK5P|          5|            0|          0|   N|\n",
            "|R1000UW1F9XVO3|          5|            1|          1|   N|\n",
            "|R1000XT2HY658Q|          5|            0|          0|   N|\n",
            "| R1001006LW4E5|          5|            2|          3|   N|\n",
            "|R10011BSYPGDXV|          5|            1|          1|   N|\n",
            "+--------------+-----------+-------------+-----------+----+\n",
            "only showing top 20 rows\n",
            "\n"
          ]
        }
      ]
    },
    {
      "cell_type": "code",
      "metadata": {
        "colab": {
          "base_uri": "https://localhost:8080/"
        },
        "id": "_MsmW1YkRZe_",
        "outputId": "06a0c499-7c2f-45cb-e19c-f33e4cf13e5e"
      },
      "source": [
        "# Number of total reviews\n",
        "total_reviews = vine_df.count()\n",
        "total_reviews"
      ],
      "execution_count": 30,
      "outputs": [
        {
          "output_type": "execute_result",
          "data": {
            "text/plain": [
              "4880460"
            ]
          },
          "metadata": {},
          "execution_count": 30
        }
      ]
    },
    {
      "cell_type": "markdown",
      "metadata": {
        "id": "eAIUPsRfPSTu"
      },
      "source": [
        "## Paid Reviews (part of Vine program)"
      ]
    },
    {
      "cell_type": "code",
      "metadata": {
        "colab": {
          "base_uri": "https://localhost:8080/"
        },
        "id": "T7FgzJ1bPTL3",
        "outputId": "536ad8b0-b503-445a-ec66-9c3d39586234"
      },
      "source": [
        "# Reviews were written as part of the Vine program (people received some sort of payment for writing the reviews)\n",
        "paid_reviews = vine_df.filter(vine_df['vine'] == \"Y\")\n",
        "paid_reviews.show(5)"
      ],
      "execution_count": 5,
      "outputs": [
        {
          "output_type": "stream",
          "name": "stdout",
          "text": [
            "+--------------+-----------+-------------+-----------+----+\n",
            "|     review_id|star_rating|helpful_votes|total_votes|vine|\n",
            "+--------------+-----------+-------------+-----------+----+\n",
            "|R100J8EBA8YU2C|          5|            1|          2|   Y|\n",
            "|R100MM5OJVG1ZJ|          5|            4|          5|   Y|\n",
            "|R100MW0JY7FWC1|          1|            0|          0|   Y|\n",
            "|R101T4MVDPSOFS|          5|            1|          1|   Y|\n",
            "|R101YN74YBNGZ4|          4|            0|          0|   Y|\n",
            "+--------------+-----------+-------------+-----------+----+\n",
            "only showing top 5 rows\n",
            "\n"
          ]
        }
      ]
    },
    {
      "cell_type": "code",
      "metadata": {
        "colab": {
          "base_uri": "https://localhost:8080/"
        },
        "id": "lhNwe76gPYCn",
        "outputId": "1e13f74f-216b-4e9d-9f38-d00937121a73"
      },
      "source": [
        "# Summary Statistics \n",
        "paid_reviews.describe().show()"
      ],
      "execution_count": 6,
      "outputs": [
        {
          "output_type": "stream",
          "name": "stdout",
          "text": [
            "+-------+--------------+------------------+-----------------+-----------------+-----+\n",
            "|summary|     review_id|       star_rating|    helpful_votes|      total_votes| vine|\n",
            "+-------+--------------+------------------+-----------------+-----------------+-----+\n",
            "|  count|         24434|             24434|            24434|            24434|24434|\n",
            "|   mean|          null|4.2489154456904314|5.964557583694852|6.917492019317344| null|\n",
            "| stddev|          null|0.8973440726829514|44.84597546541934|47.16703558474255| null|\n",
            "|    min|R100C6GLMB9OWX|                 1|                0|                0|    Y|\n",
            "|    max| RZZQVGFXIH3KD|                 5|             3325|             3428|    Y|\n",
            "+-------+--------------+------------------+-----------------+-----------------+-----+\n",
            "\n"
          ]
        }
      ]
    },
    {
      "cell_type": "code",
      "metadata": {
        "colab": {
          "base_uri": "https://localhost:8080/"
        },
        "id": "U7NEAWkPP7CT",
        "outputId": "2604e47d-2f05-4c45-bbca-748067291195"
      },
      "source": [
        "# Number of reviews as a part of Vine program \n",
        "paidrev_total = paid_reviews.count()\n",
        "paidrev_total"
      ],
      "execution_count": 7,
      "outputs": [
        {
          "output_type": "execute_result",
          "data": {
            "text/plain": [
              "24434"
            ]
          },
          "metadata": {},
          "execution_count": 7
        }
      ]
    },
    {
      "cell_type": "code",
      "metadata": {
        "colab": {
          "base_uri": "https://localhost:8080/"
        },
        "id": "AjlSRaisRPCQ",
        "outputId": "478b248e-0cbb-4140-a43b-347a0cbd55c6"
      },
      "source": [
        "# Percentage of paid reviews\n",
        "percent_paidrev = (paidrev_total / total_reviews) * 100\n",
        "percent_paidrev"
      ],
      "execution_count": 32,
      "outputs": [
        {
          "output_type": "execute_result",
          "data": {
            "text/plain": [
              "0.500649528937846"
            ]
          },
          "metadata": {},
          "execution_count": 32
        }
      ]
    },
    {
      "cell_type": "code",
      "metadata": {
        "colab": {
          "base_uri": "https://localhost:8080/"
        },
        "id": "iMV0MAhtP8T_",
        "outputId": "b0b4654a-a79d-43c4-fe62-4b0ed0bc9392"
      },
      "source": [
        "# Get all 5-star reviews (part of Vine)\n",
        "FiveStar_paidrev_total = paid_reviews.filter(paid_reviews[\"star_rating\"] == 5).count()\n",
        "FiveStar_paidrev_total"
      ],
      "execution_count": 8,
      "outputs": [
        {
          "output_type": "execute_result",
          "data": {
            "text/plain": [
              "11753"
            ]
          },
          "metadata": {},
          "execution_count": 8
        }
      ]
    },
    {
      "cell_type": "code",
      "metadata": {
        "colab": {
          "base_uri": "https://localhost:8080/"
        },
        "id": "WEeDdOUkQElf",
        "outputId": "6f6e5b40-7735-49e8-9c59-3f3ca39a4f3d"
      },
      "source": [
        "# Percentage of 5-star paid reviews\n",
        "FiveStar_percent = (FiveStar_paidrev_total / paidrev_total) * 100\n",
        "FiveStar_percent"
      ],
      "execution_count": 9,
      "outputs": [
        {
          "output_type": "execute_result",
          "data": {
            "text/plain": [
              "48.1010067938119"
            ]
          },
          "metadata": {},
          "execution_count": 9
        }
      ]
    },
    {
      "cell_type": "code",
      "metadata": {
        "colab": {
          "base_uri": "https://localhost:8080/"
        },
        "id": "Va9ZNfhMQJ_q",
        "outputId": "26812972-1f42-4a07-c49c-368dd9848f6c"
      },
      "source": [
        "# Get all 1-star reviews (part of Vine)\n",
        "OneStar_paidrev_total = paid_reviews.filter(paid_reviews[\"star_rating\"] == 1).count()\n",
        "OneStar_paidrev_total\n"
      ],
      "execution_count": 10,
      "outputs": [
        {
          "output_type": "execute_result",
          "data": {
            "text/plain": [
              "351"
            ]
          },
          "metadata": {},
          "execution_count": 10
        }
      ]
    },
    {
      "cell_type": "code",
      "metadata": {
        "colab": {
          "base_uri": "https://localhost:8080/"
        },
        "id": "0P5A_-gQQK6R",
        "outputId": "f12eb152-3544-4cb9-a953-c6107a206890"
      },
      "source": [
        "# Percentage of 1-star paid reviews\n",
        "OneStar_percent = (OneStar_paidrev_total / paidrev_total) * 100\n",
        "OneStar_percent"
      ],
      "execution_count": 11,
      "outputs": [
        {
          "output_type": "execute_result",
          "data": {
            "text/plain": [
              "1.4365228779569452"
            ]
          },
          "metadata": {},
          "execution_count": 11
        }
      ]
    },
    {
      "cell_type": "code",
      "metadata": {
        "colab": {
          "base_uri": "https://localhost:8080/"
        },
        "id": "xXAsCpEtQPk2",
        "outputId": "0ff33f4a-6c60-4b1e-a68d-07434c266239"
      },
      "source": [
        "from pyspark.sql.functions import desc\n",
        "\n",
        "avg_ratings_vine =paid_reviews.select([\"star_rating\", \"helpful_votes\"])\\\n",
        "  .groupby(\"helpful_votes\").agg({\"star_rating\": \"avg\", \"helpful_votes\":\"count\"})\\\n",
        "  .orderBy(desc(\"count(helpful_votes)\"))\n",
        "\n",
        "avg_ratings_vine.show(truncate=False)"
      ],
      "execution_count": 12,
      "outputs": [
        {
          "output_type": "stream",
          "name": "stdout",
          "text": [
            "+-------------+------------------+--------------------+\n",
            "|helpful_votes|avg(star_rating)  |count(helpful_votes)|\n",
            "+-------------+------------------+--------------------+\n",
            "|0            |4.335774697009329 |11469               |\n",
            "|1            |4.259237421383648 |5088                |\n",
            "|2            |4.170140365801786 |2351                |\n",
            "|3            |4.140253565768621 |1262                |\n",
            "|4            |4.071979434447301 |778                 |\n",
            "|5            |4.0980735551663745|571                 |\n",
            "|6            |4.179878048780488 |328                 |\n",
            "|7            |4.057142857142857 |280                 |\n",
            "|8            |4.037383177570093 |214                 |\n",
            "|9            |4.1454545454545455|165                 |\n",
            "|10           |4.102362204724409 |127                 |\n",
            "|12           |4.096             |125                 |\n",
            "|13           |4.019047619047619 |105                 |\n",
            "|11           |4.144230769230769 |104                 |\n",
            "|14           |4.024390243902439 |82                  |\n",
            "|15           |4.209876543209877 |81                  |\n",
            "|16           |4.184210526315789 |76                  |\n",
            "|17           |4.084745762711864 |59                  |\n",
            "|19           |4.019230769230769 |52                  |\n",
            "|18           |4.232558139534884 |43                  |\n",
            "+-------------+------------------+--------------------+\n",
            "only showing top 20 rows\n",
            "\n"
          ]
        }
      ]
    },
    {
      "cell_type": "code",
      "metadata": {
        "colab": {
          "base_uri": "https://localhost:8080/"
        },
        "id": "8I8ladBY8PKu",
        "outputId": "bf77c486-6121-4a6a-905c-5a8e64e2ce53"
      },
      "source": [
        "# Number of Helpfuls Votes with at least 1 vote\n",
        "heplful_votes_paid = paid_reviews.filter(paid_reviews['helpful_votes'] >= 1).count()\n",
        "heplful_votes_paid "
      ],
      "execution_count": 13,
      "outputs": [
        {
          "output_type": "execute_result",
          "data": {
            "text/plain": [
              "12965"
            ]
          },
          "metadata": {},
          "execution_count": 13
        }
      ]
    },
    {
      "cell_type": "code",
      "metadata": {
        "colab": {
          "base_uri": "https://localhost:8080/"
        },
        "id": "4L_wvg4kFCVi",
        "outputId": "5992d45b-6b6c-4e43-da93-89918e944d18"
      },
      "source": [
        "# Percentage of Helpfuls Votes with at least 1 vote\n",
        "heplful_percent_paidv = (heplful_votes_paid / paidrev_total) * 100\n",
        "heplful_percent_paidv"
      ],
      "execution_count": 28,
      "outputs": [
        {
          "output_type": "execute_result",
          "data": {
            "text/plain": [
              "53.06130801342391"
            ]
          },
          "metadata": {},
          "execution_count": 28
        }
      ]
    },
    {
      "cell_type": "markdown",
      "metadata": {
        "id": "YUjKA6wwQZ62"
      },
      "source": [
        "## Unpaid Reviews (not part of Vine program)"
      ]
    },
    {
      "cell_type": "code",
      "metadata": {
        "colab": {
          "base_uri": "https://localhost:8080/"
        },
        "id": "cnCVOkKyQc7C",
        "outputId": "ad2f1059-6833-485f-ee1d-9162b2b17b1c"
      },
      "source": [
        "# Reviews were writen not related to Vine Program (these people haven't received payment or free products for writing reviews)\n",
        "unpaid_reviews = vine_df.filter(vine_df['vine'] == \"N\")\n",
        "unpaid_reviews.show(5)"
      ],
      "execution_count": 15,
      "outputs": [
        {
          "output_type": "stream",
          "name": "stdout",
          "text": [
            "+--------------+-----------+-------------+-----------+----+\n",
            "|     review_id|star_rating|helpful_votes|total_votes|vine|\n",
            "+--------------+-----------+-------------+-----------+----+\n",
            "|R10002O5HSLMDW|          5|            0|          0|   N|\n",
            "|R100042H9DN6G5|          5|            0|          0|   N|\n",
            "|R100065LWA66A9|          4|            0|          1|   N|\n",
            "|R10006YK5ARTDT|          5|            0|          0|   N|\n",
            "|R100079NQX5FV0|          5|            0|          0|   N|\n",
            "+--------------+-----------+-------------+-----------+----+\n",
            "only showing top 5 rows\n",
            "\n"
          ]
        }
      ]
    },
    {
      "cell_type": "code",
      "metadata": {
        "colab": {
          "base_uri": "https://localhost:8080/"
        },
        "id": "s3ufLM-iQgNm",
        "outputId": "a8b8e990-3f72-44c8-c6e3-bcff5b167164"
      },
      "source": [
        "# Summary Statistics \n",
        "unpaid_reviews.describe().show()"
      ],
      "execution_count": 16,
      "outputs": [
        {
          "output_type": "stream",
          "name": "stdout",
          "text": [
            "+-------+--------------+-----------------+------------------+------------------+-------+\n",
            "|summary|     review_id|      star_rating|     helpful_votes|       total_votes|   vine|\n",
            "+-------+--------------+-----------------+------------------+------------------+-------+\n",
            "|  count|       4856026|          4856026|           4856026|           4856026|4856026|\n",
            "|   mean|          null|4.207215323805927| 2.227274730407127|2.6559099971870004|   null|\n",
            "| stddev|          null|1.288595147626843|22.752191578607952|23.919659731444806|   null|\n",
            "|    min|R10002O5HSLMDW|                1|                 0|                 0|      N|\n",
            "|    max| RZZZZPTRHB6UP|                5|             11173|             11501|      N|\n",
            "+-------+--------------+-----------------+------------------+------------------+-------+\n",
            "\n"
          ]
        }
      ]
    },
    {
      "cell_type": "code",
      "metadata": {
        "colab": {
          "base_uri": "https://localhost:8080/"
        },
        "id": "2gD_4YS3Qip7",
        "outputId": "0b800366-f427-4733-e23f-510f1ec9b9f9"
      },
      "source": [
        "# Number of reviews which aren't part of Vine program\n",
        "unpaidrev_total = unpaid_reviews.count()\n",
        "unpaidrev_total"
      ],
      "execution_count": 17,
      "outputs": [
        {
          "output_type": "execute_result",
          "data": {
            "text/plain": [
              "4856026"
            ]
          },
          "metadata": {},
          "execution_count": 17
        }
      ]
    },
    {
      "cell_type": "code",
      "metadata": {
        "colab": {
          "base_uri": "https://localhost:8080/"
        },
        "id": "DytXawL3Rolu",
        "outputId": "867ed2f0-4014-43ee-80ed-4a8ea0c2d941"
      },
      "source": [
        "# Percentage of paid reviews\n",
        "percent_unpaidrev = (unpaidrev_total / total_reviews) * 100\n",
        "percent_unpaidrev"
      ],
      "execution_count": 31,
      "outputs": [
        {
          "output_type": "execute_result",
          "data": {
            "text/plain": [
              "99.49935047106216"
            ]
          },
          "metadata": {},
          "execution_count": 31
        }
      ]
    },
    {
      "cell_type": "code",
      "metadata": {
        "colab": {
          "base_uri": "https://localhost:8080/"
        },
        "id": "DxZJVxauQlSy",
        "outputId": "30411ab6-fe74-45c2-cf90-ec32d4cf1a27"
      },
      "source": [
        "# Get all 5-star reviews (not part of Vine)\n",
        "FiveStar_unpaidrev_total = unpaid_reviews.filter(unpaid_reviews[\"star_rating\"] == 5).count()\n",
        "FiveStar_unpaidrev_total"
      ],
      "execution_count": 18,
      "outputs": [
        {
          "output_type": "execute_result",
          "data": {
            "text/plain": [
              "3116807"
            ]
          },
          "metadata": {},
          "execution_count": 18
        }
      ]
    },
    {
      "cell_type": "code",
      "metadata": {
        "colab": {
          "base_uri": "https://localhost:8080/"
        },
        "id": "1rMcoscaQnmc",
        "outputId": "a6ad544e-adf9-4e0b-d87e-0725f6e4e21f"
      },
      "source": [
        "# Percentage of 5-star unpaid reviews\n",
        "FiveStar_nonvine_percent = (FiveStar_unpaidrev_total / unpaidrev_total) * 100\n",
        "FiveStar_nonvine_percent"
      ],
      "execution_count": 19,
      "outputs": [
        {
          "output_type": "execute_result",
          "data": {
            "text/plain": [
              "64.18431449913983"
            ]
          },
          "metadata": {},
          "execution_count": 19
        }
      ]
    },
    {
      "cell_type": "code",
      "metadata": {
        "colab": {
          "base_uri": "https://localhost:8080/"
        },
        "id": "EZSVFDKLQpnz",
        "outputId": "faca9e0a-c410-4a55-8759-87ac97467476"
      },
      "source": [
        "# Get all 1-star reviews (part of Vine)\n",
        "OneStar_unpaidrev_total = unpaid_reviews.filter(unpaid_reviews[\"star_rating\"] == 1).count()\n",
        "OneStar_unpaidrev_total"
      ],
      "execution_count": 20,
      "outputs": [
        {
          "output_type": "execute_result",
          "data": {
            "text/plain": [
              "426954"
            ]
          },
          "metadata": {},
          "execution_count": 20
        }
      ]
    },
    {
      "cell_type": "code",
      "metadata": {
        "colab": {
          "base_uri": "https://localhost:8080/"
        },
        "id": "KSVg8k2qQu62",
        "outputId": "49408cce-9824-4bad-da85-dd0c858dffdb"
      },
      "source": [
        "# Percentage of 1-star paid reviews\n",
        "OneStar_nonvine_percent = (OneStar_unpaidrev_total / unpaidrev_total) * 100\n",
        "OneStar_nonvine_percent"
      ],
      "execution_count": 21,
      "outputs": [
        {
          "output_type": "execute_result",
          "data": {
            "text/plain": [
              "8.7922511123293"
            ]
          },
          "metadata": {},
          "execution_count": 21
        }
      ]
    },
    {
      "cell_type": "code",
      "metadata": {
        "colab": {
          "base_uri": "https://localhost:8080/"
        },
        "id": "iIU7GKIqQxh9",
        "outputId": "a0b49756-c5c7-4644-dc9c-7f672a45f184"
      },
      "source": [
        "avg_ratings_nonvine = unpaid_reviews.select([\"star_rating\", \"helpful_votes\"])\\\n",
        "  .groupby(\"helpful_votes\").agg({\"star_rating\": \"avg\", \"helpful_votes\":\"count\"})\\\n",
        "  .orderBy(desc(\"count(helpful_votes)\"))\n",
        "\n",
        "avg_ratings_nonvine.show(truncate=False)"
      ],
      "execution_count": 22,
      "outputs": [
        {
          "output_type": "stream",
          "name": "stdout",
          "text": [
            "+-------------+------------------+--------------------+\n",
            "|helpful_votes|avg(star_rating)  |count(helpful_votes)|\n",
            "+-------------+------------------+--------------------+\n",
            "|0            |4.38601250538644  |3165356             |\n",
            "|1            |4.084310069786682 |757881              |\n",
            "|2            |3.84449786528915  |287861              |\n",
            "|3            |3.730583054068282 |155766              |\n",
            "|4            |3.6629369316759823|95896               |\n",
            "|5            |3.6154126103175326|65946               |\n",
            "|6            |3.608359261563991 |48210               |\n",
            "|7            |3.5892224449998626|36409               |\n",
            "|8            |3.555955040491483 |28648               |\n",
            "|9            |3.5617567919451436|23042               |\n",
            "|10           |3.569372693726937 |18970               |\n",
            "|11           |3.587136274695449 |15843               |\n",
            "|12           |3.5567955066144408|13531               |\n",
            "|13           |3.5443669851105946|11619               |\n",
            "|14           |3.572567940133911 |10156               |\n",
            "|15           |3.5712651567147105|8742                |\n",
            "|16           |3.577439103816595 |7677                |\n",
            "|17           |3.5662066940692894|6812                |\n",
            "|18           |3.554919137466307 |5936                |\n",
            "|19           |3.535505124450952 |5464                |\n",
            "+-------------+------------------+--------------------+\n",
            "only showing top 20 rows\n",
            "\n"
          ]
        }
      ]
    },
    {
      "cell_type": "code",
      "metadata": {
        "colab": {
          "base_uri": "https://localhost:8080/"
        },
        "id": "ea__H0J88U0q",
        "outputId": "bc77852d-8000-45a2-e655-a4fb780520d3"
      },
      "source": [
        "# Number of Helpfuls Votes with at least 1 vote\n",
        "heplful_votes_unpaid = unpaid_reviews.filter(unpaid_reviews['helpful_votes'] >= 1).count()\n",
        "heplful_votes_unpaid "
      ],
      "execution_count": 23,
      "outputs": [
        {
          "output_type": "execute_result",
          "data": {
            "text/plain": [
              "1690670"
            ]
          },
          "metadata": {},
          "execution_count": 23
        }
      ]
    },
    {
      "cell_type": "code",
      "metadata": {
        "colab": {
          "base_uri": "https://localhost:8080/"
        },
        "id": "fTqsBu-mFtIY",
        "outputId": "099a31d9-6abb-4755-e716-f9437c7dc0ab"
      },
      "source": [
        "# Percentage of Helpfuls Votes with at least 1 vote\n",
        "heplful_percent_unpaidv = (heplful_votes_unpaid / unpaidrev_total) * 100\n",
        "heplful_percent_unpaidv"
      ],
      "execution_count": 29,
      "outputs": [
        {
          "output_type": "execute_result",
          "data": {
            "text/plain": [
              "34.81591737770762"
            ]
          },
          "metadata": {},
          "execution_count": 29
        }
      ]
    }
  ]
}